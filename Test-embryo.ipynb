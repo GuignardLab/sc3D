{
 "cells": [
  {
   "cell_type": "code",
   "execution_count": null,
   "id": "c848057b",
   "metadata": {},
   "outputs": [],
   "source": [
    "import json\n",
    "from matplotlib import pyplot as plt\n",
    "import numpy as np\n",
    "import open3d as o3d\n",
    "from src.EmbryoAlignment import Embryo\n",
    "\n",
    "with open('data/corresptissues.json') as f:\n",
    "    corres_tissues = json.load(f)\n",
    "    corres_tissues = {eval(k): v for k, v in corres_tissues.items()}\n",
    "with open('data/tissuescolor.json') as f:\n",
    "    colors_paper = json.load(f)\n",
    "    colors_paper = {eval(k): v for k, v in colors_paper.items()}\n",
    "%matplotlib notebook"
   ]
  },
  {
   "cell_type": "markdown",
   "id": "d803c127",
   "metadata": {},
   "source": [
    "# Setting up parameters"
   ]
  },
  {
   "cell_type": "code",
   "execution_count": null,
   "id": "39f9ddf8",
   "metadata": {},
   "outputs": [],
   "source": [
    "# Path to the input data\n",
    "data_path = '../SpatialSC/Data/E8.5.h5ad'\n",
    "# Path to the output folder\n",
    "output_folder = 'out/'\n",
    "\n",
    "# Set of genes that will be interpolated\n",
    "genes_of_interest = ['Actb', 'T', 'Cdx2',\n",
    "                     'Fgf8','Mesp2', 'Tbx6', 'Meox1',\n",
    "                     'Uncx','Tbx18', 'Sox2', 'Nkx6-2',\n",
    "                     'Sox1', 'Otx2','Tnnt2', 'Shh',\n",
    "                     'Foxa2', 'Sox17', 'Gapdh']\n",
    "\n",
    "# List of tissues that are ignored to do coverslip registration\n",
    "tissues_to_ignore = [13, 15, 16, 22, 27, 29, 32, 36, 40, 41]\n",
    "\n",
    "# Coverslips to ignore\n",
    "# on the starting side\n",
    "nb_CS_begin_ignore = 0\n",
    "# on the ending side\n",
    "nb_CS_end_ignore = 2\n",
    "\n",
    "# Gives more weight to some tissues to help the alignment\n",
    "tissue_weight = {21:1000, 18:1000}\n",
    "# xy resolution\n",
    "xy_resolution = .6\n",
    "# Distance max that two beads can be linked together between coverslips\n",
    "th_d = 150\n",
    "# Threshold bellow which the beads will be considered noise.\n",
    "# Value between 0 (all beads taken) and 1 (almost no beads taken)\n",
    "outlier_threshold = .1\n",
    "\n",
    "# Number of interpolated layers between two consecutive coverslips\n",
    "nb_interp = 5"
   ]
  },
  {
   "cell_type": "code",
   "execution_count": null,
   "id": "ec7ea06c",
   "metadata": {},
   "outputs": [],
   "source": [
    "embryo = Embryo(data_path, tissues_to_ignore, corres_tissues, tissue_weight=tissue_weight,\n",
    "                xy_resolution=xy_resolution, genes_of_interest=genes_of_interest,\n",
    "                nb_CS_begin_ignore=nb_CS_begin_ignore, nb_CS_end_ignore=nb_CS_end_ignore,\n",
    "                store_anndata=True)\n",
    "embryo.removing_spatial_outliers(th=outlier_threshold)\n",
    "embryo.set_zpos()\n",
    "embryo.reconstruct_intermediate(embryo, th_d=th_d, genes=genes_of_interest)"
   ]
  },
  {
   "cell_type": "markdown",
   "id": "65243f9a",
   "metadata": {},
   "source": [
    "# Build point clouds"
   ]
  },
  {
   "cell_type": "markdown",
   "id": "d3aee617",
   "metadata": {},
   "source": [
    "## Grey point cloud"
   ]
  },
  {
   "cell_type": "code",
   "execution_count": null,
   "id": "1951c46e",
   "metadata": {},
   "outputs": [],
   "source": [
    "# ploting all the tissues\n",
    "# if one wants to plot a subset the list below can be uncomented and changed\n",
    "# tissues_to_plot = [1, 2, 3, 4]\n",
    "tissues_to_plot = embryo.all_tissues\n",
    "\n",
    "# Creates the interpolation\n",
    "points, colors = embryo.produce_em(nb_interp, tissues_to_plot)\n",
    "\n",
    "# Create the pointcloud\n",
    "pcd = o3d.geometry.PointCloud()\n",
    "pcd.points = o3d.utility.Vector3dVector(points)\n",
    "pcd.colors = o3d.utility.Vector3dVector([[.8,.8,.8],]*len(points))\n",
    "\n",
    "# Saving the pointcloud\n",
    "o3d.io.write_point_cloud(\"out/All-tissues-independent/grey.ply\", pcd)\n"
   ]
  },
  {
   "cell_type": "markdown",
   "id": "6593519a",
   "metadata": {},
   "source": [
    "## Tissue colored point cloud"
   ]
  },
  {
   "cell_type": "code",
   "execution_count": null,
   "id": "775353d8",
   "metadata": {},
   "outputs": [],
   "source": [
    "# individual ploting a subset of tissues with the tissue color\n",
    "# one wants to plot a subset the list below can be uncomented\n",
    "# tissues_to_plot = embryo.all_tissues\n",
    "tissues_to_plot = [18, 21, 30, 31, 34]\n",
    "\n",
    "for t in tissues_to_plot:\n",
    "    tissues_to_plot = [t]\n",
    "    points, colors = embryo.produce_em(nb_interp, tissues_to_plot)\n",
    "    if len(colors)<1:\n",
    "        continue\n",
    "    pcd = o3d.geometry.PointCloud()\n",
    "    pcd.points = o3d.utility.Vector3dVector(points)\n",
    "    pcd.colors = o3d.utility.Vector3dVector([colors_paper[ci] for ci in colors])\n",
    "\n",
    "    o3d.io.write_point_cloud(f\"out/All-tissues-independent/{corres_tissues[t]}.ply\", pcd)"
   ]
  },
  {
   "cell_type": "code",
   "execution_count": null,
   "id": "e2626d01",
   "metadata": {},
   "outputs": [],
   "source": [
    "# individual ploting a subset of tissues with the tissue color\n",
    "# one wants to plot a subset the list below can be uncomented\n",
    "# tissues_to_plot = embryo.all_tissues\n",
    "tissues_to_plot = [18, 21, 30, 31, 34]\n",
    "\n",
    "points, colors = embryo.produce_em(nb_interp, tissues_to_plot)\n",
    "pcd = o3d.geometry.PointCloud()\n",
    "pcd.points = o3d.utility.Vector3dVector(points)\n",
    "pcd.colors = o3d.utility.Vector3dVector([colors_paper[ci] for ci in colors])\n",
    "\n",
    "o3d.io.write_point_cloud(f\"out/few_tissues.ply\", pcd)"
   ]
  },
  {
   "cell_type": "markdown",
   "id": "3a0a9793",
   "metadata": {},
   "source": [
    "## Gene expression colored point clouds"
   ]
  },
  {
   "cell_type": "code",
   "execution_count": null,
   "id": "e2726f09",
   "metadata": {},
   "outputs": [],
   "source": [
    "# List of genes to plot\n",
    "genes_of_interest = ['Actb', 'T', 'Cdx2',\n",
    "                     'Fgf8','Mesp2', 'Tbx6', 'Meox1',\n",
    "                     'Uncx','Tbx18', 'Sox2', 'Nkx6-2',\n",
    "                     'Sox1', 'Otx2','Tnnt2', 'Shh',\n",
    "                     'Foxa2', 'Sox17', 'Gapdh']\n",
    "# Colormap used\n",
    "# (see https://matplotlib.org/stable/tutorials/colors/colormaps.html for an extensive list of colormaps)\n",
    "cm = plt.cm.viridis\n",
    "\n",
    "for gene in genes_of_interest:#[18, 21, 30, 31, 34]:\n",
    "    tissues_to_plot = [18, 21, 30, 31, 34]\n",
    "    points, colors = embryo.produce_em(nb_interp, tissues_to_plot=tissues_to_plot, gene=gene)\n",
    "\n",
    "    c_min, c_max = np.percentile(colors, 1), np.percentile(colors, 99)\n",
    "    color_from_v = lambda v, c_min, c_max, cm: cm((v-c_min)/(c_max-c_min))[...,:-1]\n",
    "\n",
    "    pcd = o3d.geometry.PointCloud()\n",
    "    pcd.points = o3d.utility.Vector3dVector(points)\n",
    "    pcd.colors = o3d.utility.Vector3dVector(color_from_v(np.array(colors), c_min, c_max, cm))\n",
    "\n",
    "    o3d.io.write_point_cloud(f\"out/genes/{gene}.ply\", pcd)"
   ]
  },
  {
   "cell_type": "markdown",
   "id": "6529c2d9",
   "metadata": {},
   "source": [
    "# Extracting a plan"
   ]
  },
  {
   "cell_type": "code",
   "execution_count": null,
   "id": "431a5582",
   "metadata": {
    "scrolled": false
   },
   "outputs": [],
   "source": [
    "origin = np.mean([embryo.final[c] for c in embryo.all_cells if embryo.tissue[c] in [30, 31]], axis=0)\n",
    "origin = np.hstack([origin, 80])\n",
    "angles = np.array([-5., 5., 0.])\n",
    "# points_to_plot = embryo.plot_slice([5, 0, 0], color_map=colors_paper, origin=origin,\n",
    "#                                    tissues=[18, 30, 31], nb_interp=0)\n",
    "\n",
    "# points_to_plot = embryo.ply_slice('out/slice.ply', angles, colors_paper, origin=origin,\n",
    "#                                   tissues_colored=[18, 30, 31],\n",
    "#                                   tissues=[18, 21, 30, 31, 34], nb_interp=5)\n",
    "\n",
    "\n",
    "points_to_plot = embryo.plot_slice(angles, color_map=colors_paper, origin=origin, thickness=50,\n",
    "                                   tissues=[18, 30, 31], nb_interp=5,\n",
    "                                   output_path='test.pdf', alpha=.5)\n",
    "\n",
    "# points_to_plot = embryo.anndata_slice('out/slice.h5ad', angles,\n",
    "#                                       gene_list=genes_of_interest, origin=origin,\n",
    "#                                       tissues=[18, 21, 30, 31, 34], nb_interp=5)\n",
    "\n",
    "# embryo.anndata_no_extra('out/all.h5ad', angles, origin=origin)"
   ]
  },
  {
   "cell_type": "markdown",
   "id": "ca1d76c9",
   "metadata": {},
   "source": [
    "# Bonus: How to run multiple parameters at once:"
   ]
  },
  {
   "cell_type": "code",
   "execution_count": null,
   "id": "9d909e30",
   "metadata": {},
   "outputs": [],
   "source": [
    "# Tissues to plot in the pointcloud\n",
    "tissues_to_plot = [18, 21, 30, 31, 34]\n",
    "th_to_test = [.05, .1, .15, .2]\n",
    "\n",
    "for test_outlier_th in th_to_test[:1]:\n",
    "    # Load and reconstruct\n",
    "    embryo = Embryo(data_path, tissues_to_ignore, corres_tissues, tissue_weight=tissue_weight,\n",
    "                    xy_resolution=xy_resolution, genes_of_interest=genes_of_interest,\n",
    "                    nb_CS_begin_ignore=nb_CS_begin_ignore, nb_CS_end_ignore=nb_CS_end_ignore)\n",
    "    embryo.removing_spatial_outliers(th=test_outlier_th)\n",
    "    embryo.set_zpos()\n",
    "    embryo.reconstruct_intermediate(embryo, th_d=th_d, genes=genes_of_interest)\n",
    "    \n",
    "    # Writing the point cloud\n",
    "    points, colors = embryo.produce_em(nb_interp, tissues_to_plot)\n",
    "    pcd = o3d.geometry.PointCloud()\n",
    "    pcd.points = o3d.utility.Vector3dVector(points)\n",
    "    pcd.colors = o3d.utility.Vector3dVector([colors_paper[ci] for ci in colors])\n",
    "\n",
    "    # Make sure to have created the folder test-outlier-th before\n",
    "    o3d.io.write_point_cloud(f\"out/test-outlier-th/th_{th_to_test}.ply\", pcd)"
   ]
  }
 ],
 "metadata": {
  "kernelspec": {
   "display_name": "Python 3 (ipykernel)",
   "language": "python",
   "name": "python3"
  },
  "language_info": {
   "codemirror_mode": {
    "name": "ipython",
    "version": 3
   },
   "file_extension": ".py",
   "mimetype": "text/x-python",
   "name": "python",
   "nbconvert_exporter": "python",
   "pygments_lexer": "ipython3",
   "version": "3.8.11"
  }
 },
 "nbformat": 4,
 "nbformat_minor": 5
}
