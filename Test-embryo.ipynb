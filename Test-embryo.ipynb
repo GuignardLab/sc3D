{
 "cells": [
  {
   "cell_type": "code",
   "execution_count": null,
   "id": "c848057b",
   "metadata": {},
   "outputs": [],
   "source": [
    "import json\n",
    "from matplotlib import pyplot as plt\n",
    "import numpy as np\n",
    "import open3d as o3d\n",
    "from scSpatial import Embryo\n",
    "\n",
    "with open('data/corresptissues.json') as f:\n",
    "    corres_tissues = json.load(f)\n",
    "    corres_tissues = {eval(k): v for k, v in corres_tissues.items()}\n",
    "with open('data/tissuescolor.json') as f:\n",
    "    colors_paper = json.load(f)\n",
    "    colors_paper = {eval(k): v for k, v in colors_paper.items()}\n",
    "%matplotlib inline"
   ]
  },
  {
   "cell_type": "markdown",
   "id": "d803c127",
   "metadata": {},
   "source": [
    "# Setting up parameters"
   ]
  },
  {
   "cell_type": "code",
   "execution_count": null,
   "id": "39f9ddf8",
   "metadata": {},
   "outputs": [],
   "source": [
    "# Path to the input data\n",
    "data_path = '../../SpatialSC/Data/E8.5.h5ad'\n",
    "# Path to the output folder\n",
    "output_folder = 'out/'\n",
    "\n",
    "# Set of genes that will be interpolated\n",
    "# genes_of_interest = ['Actb', 'T', 'Cdx2',\n",
    "#                      'Fgf8','Mesp2', 'Tbx6', 'Meox1',\n",
    "#                      'Uncx','Tbx18', 'Sox2', 'Nkx6-2',\n",
    "#                      'Sox1', 'Otx2','Tnnt2', 'Shh',\n",
    "#                      'Foxa2', 'Sox17', 'Gapdh']\n",
    "\n",
    "genes_of_interest = ['T','Sox2']\n",
    "\n",
    "# List of tissues that are ignored to do coverslip registration\n",
    "tissues_to_ignore = [13, 15, 16, 22, 27, 29, 32, 36, 40, 41]\n",
    "\n",
    "# Coverslips to ignore\n",
    "# on the starting side\n",
    "nb_CS_begin_ignore = 0\n",
    "# on the ending side\n",
    "nb_CS_end_ignore = 2\n",
    "\n",
    "# Gives more weight to some tissues to help the alignment\n",
    "tissue_weight = {31:2000}\n",
    "# xy resolution\n",
    "xy_resolution = .6\n",
    "# Distance max that two beads can be linked together between coverslips\n",
    "th_d = 150\n",
    "# Threshold bellow which the beads will be considered noise.\n",
    "# Value between 0 (all beads taken) and 1 (almost no beads taken)\n",
    "outlier_threshold = .6\n",
    "\n",
    "# Number of interpolated layers between two consecutive coverslips\n",
    "nb_interp = 5"
   ]
  },
  {
   "cell_type": "code",
   "execution_count": null,
   "id": "ec7ea06c",
   "metadata": {},
   "outputs": [],
   "source": [
    "embryo = Embryo(data_path, tissues_to_ignore, corres_tissues, tissue_weight=tissue_weight,\n",
    "                xy_resolution=xy_resolution, genes_of_interest=genes_of_interest,\n",
    "                nb_CS_begin_ignore=nb_CS_begin_ignore, nb_CS_end_ignore=nb_CS_end_ignore,\n",
    "                store_anndata=True)\n",
    "embryo.removing_spatial_outliers(th=outlier_threshold)\n",
    "embryo.reconstruct_intermediate(embryo, th_d=th_d, genes=genes_of_interest)"
   ]
  },
  {
   "cell_type": "markdown",
   "id": "65243f9a",
   "metadata": {},
   "source": [
    "# Build point clouds"
   ]
  },
  {
   "cell_type": "markdown",
   "id": "d3aee617",
   "metadata": {},
   "source": [
    "## Grey point cloud"
   ]
  },
  {
   "cell_type": "code",
   "execution_count": null,
   "id": "1951c46e",
   "metadata": {},
   "outputs": [],
   "source": [
    "# ploting all the tissues\n",
    "# if one wants to plot a subset the list below can be uncomented and changed\n",
    "# tissues_to_plot = [1, 2, 3, 4]\n",
    "tissues_to_plot = embryo.all_tissues\n",
    "\n",
    "# Creates the interpolation\n",
    "points, colors = embryo.produce_em(nb_interp, tissues_to_plot)\n",
    "\n",
    "# Create the pointcloud\n",
    "pcd = o3d.geometry.PointCloud()\n",
    "pcd.points = o3d.utility.Vector3dVector(points)\n",
    "pcd.colors = o3d.utility.Vector3dVector([[.8,.8,.8],]*len(points))\n",
    "\n",
    "# Saving the pointcloud\n",
    "o3d.io.write_point_cloud(\"out/grey.ply\", pcd)\n"
   ]
  },
  {
   "cell_type": "markdown",
   "id": "6593519a",
   "metadata": {},
   "source": [
    "## Tissue colored point cloud"
   ]
  },
  {
   "cell_type": "code",
   "execution_count": null,
   "id": "775353d8",
   "metadata": {},
   "outputs": [],
   "source": [
    "# individual ploting a subset of tissues with the tissue color\n",
    "# one wants to plot a subset the list below can be uncomented\n",
    "# tissues_to_plot = embryo.all_tissues\n",
    "tissues_to_plot = [18, 21, 30, 31, 34]\n",
    "\n",
    "for t in tissues_to_plot:\n",
    "    tissues_to_plot = [t]\n",
    "    points, colors = embryo.produce_em(nb_interp, tissues_to_plot)\n",
    "    if len(colors)<1:\n",
    "        continue\n",
    "    pcd = o3d.geometry.PointCloud()\n",
    "    pcd.points = o3d.utility.Vector3dVector(points)\n",
    "    pcd.colors = o3d.utility.Vector3dVector([colors_paper[ci] for ci in colors])\n",
    "\n",
    "    o3d.io.write_point_cloud(f\"out/{corres_tissues[t]}.ply\", pcd)"
   ]
  },
  {
   "cell_type": "code",
   "execution_count": null,
   "id": "e2626d01",
   "metadata": {},
   "outputs": [],
   "source": [
    "# individual ploting a subset of tissues with the tissue color\n",
    "# one wants to plot a subset the list below can be uncomented\n",
    "# tissues_to_plot = embryo.all_tissues\n",
    "tissues_to_plot = [18, 21, 30, 31, 34]\n",
    "\n",
    "points, colors = embryo.produce_em(nb_interp, tissues_to_plot)\n",
    "pcd = o3d.geometry.PointCloud()\n",
    "pcd.points = o3d.utility.Vector3dVector(points)\n",
    "pcd.colors = o3d.utility.Vector3dVector([colors_paper[ci] for ci in colors])\n",
    "\n",
    "o3d.io.write_point_cloud(f\"out/few_tissues.ply\", pcd)"
   ]
  },
  {
   "cell_type": "markdown",
   "id": "3a0a9793",
   "metadata": {},
   "source": [
    "## Gene expression colored point clouds"
   ]
  },
  {
   "cell_type": "code",
   "execution_count": null,
   "id": "e2726f09",
   "metadata": {},
   "outputs": [],
   "source": [
    "# List of genes to plot\n",
    "# genes_of_interest = ['Actb', 'T', 'Cdx2',\n",
    "#                      'Fgf8','Mesp2', 'Tbx6', 'Meox1',\n",
    "#                      'Uncx','Tbx18', 'Sox2', 'Nkx6-2',\n",
    "#                      'Sox1', 'Otx2','Tnnt2', 'Shh',\n",
    "#                      'Foxa2', 'Sox17', 'Gapdh']\n",
    "# Colormap used\n",
    "# (see https://matplotlib.org/stable/tutorials/colors/colormaps.html for an extensive list of colormaps)\n",
    "cm = plt.cm.viridis\n",
    "\n",
    "for gene in genes_of_interest:#[18, 21, 30, 31, 34]:\n",
    "    tissues_to_plot = [18, 21, 30, 31, 34]\n",
    "    points, colors = embryo.produce_em(nb_interp, tissues_to_plot=tissues_to_plot, gene=gene)\n",
    "\n",
    "    c_min, c_max = np.percentile(colors, 1), np.percentile(colors, 99)\n",
    "    color_from_v = lambda v, c_min, c_max, cm: cm((v-c_min)/(c_max-c_min))[...,:-1]\n",
    "\n",
    "    pcd = o3d.geometry.PointCloud()\n",
    "    pcd.points = o3d.utility.Vector3dVector(points)\n",
    "    pcd.colors = o3d.utility.Vector3dVector(color_from_v(np.array(colors), c_min, c_max, cm))\n",
    "\n",
    "    o3d.io.write_point_cloud(f\"out/{gene}.ply\", pcd)"
   ]
  },
  {
   "cell_type": "markdown",
   "id": "6529c2d9",
   "metadata": {},
   "source": [
    "# Extracting a plan"
   ]
  },
  {
   "cell_type": "markdown",
   "id": "023bb5dc",
   "metadata": {},
   "source": [
    "## Plotting the tissues\n",
    "### Tissue color"
   ]
  },
  {
   "cell_type": "code",
   "execution_count": null,
   "id": "431a5582",
   "metadata": {
    "scrolled": false
   },
   "outputs": [],
   "source": [
    "origin = np.mean([embryo.final[c] for c in embryo.all_cells if embryo.tissue[c] in [30, 31]], axis=0)\n",
    "origin = np.hstack([origin, 80])\n",
    "angles = np.array([-5., 5., 0.])\n",
    "points_to_plot = embryo.plot_slice(angles, color_map=colors_paper, origin=origin, thickness=20,\n",
    "                                   tissues=[18, 30, 31], nb_interp=5) "
   ]
  },
  {
   "cell_type": "markdown",
   "id": "4f36e110",
   "metadata": {},
   "source": [
    "### Gene colors"
   ]
  },
  {
   "cell_type": "code",
   "execution_count": null,
   "id": "3a71d50a",
   "metadata": {},
   "outputs": [],
   "source": [
    "origin = np.mean([embryo.final[c] for c in embryo.all_cells if embryo.tissue[c] in [30, 31]], axis=0)\n",
    "origin = np.hstack([origin, 80])\n",
    "angles = np.array([-5., 5., 0.])\n",
    "points_to_plot = embryo.plot_slice(angles, colors_paper, origin=origin, thickness=30, gene='T',\n",
    "                                   tissues=[18, 30, 31], nb_interp=5, output_path='test.pdf')"
   ]
  },
  {
   "cell_type": "markdown",
   "id": "2346adbd",
   "metadata": {},
   "source": [
    "### 2 Genes colors\n",
    "\n",
    "Explanation of the 2 colors parameters:\n",
    "\n",
    "`gene`: can be a single gene (as above) or a list of TWO genes as below\n",
    "\n",
    "The color combinations availables are:\n",
    "- Red and Cyan\n",
    "- Green and Magenta\n",
    "- Blue and Yellow\n",
    "\n",
    "The parameter `main_bi_color` allows to choose one of these 3 combinations. `main_bi_color` can have 3 different values: `r`, `g` or `b` respectively referring to red, green and blue the first color of each color combination.\n",
    "\n",
    "Moreover, 4 different parameters exists to define the upper and lower bounds of the gene expression values:\n",
    "- `min_g1`: minimum value for the first gene of the list\n",
    "- `min_g2`: minimum value for the second gene of the list\n",
    "- `max_g1`: maximum value for the first gene of the list\n",
    "- `max_g2`: maximum value for the second gene of the list\n",
    "\n",
    "By default, if no value is provided (or `None`) these values are computed as the bottom and top 2 percent of the respective gene expression distributions.\n",
    "\n",
    "To look at the color scale for bi-color plots, one can give the path to the image where the scale will be saved using the parameter `path_scale`. For example `path_scale='path/to/folder/scale.pdf'`\n",
    "\n",
    "\n",
    "Finally, some parameters can be called to change the properties of the scatter plot, some are called in the example bellow:\n",
    "- `alpha`: sets the transparency (0 being fully transparent, 1 being fully opaque)\n",
    "- `linewidth`: width of the line around the markers\n",
    "- `s`: size of the markers\n",
    "\n",
    "All the possible parameters for the scatter plot can be found [there](https://matplotlib.org/stable/api/_as_gen/matplotlib.pyplot.scatter.html#matplotlib.pyplot.scatter)."
   ]
  },
  {
   "cell_type": "code",
   "execution_count": null,
   "id": "88f1bb82",
   "metadata": {},
   "outputs": [],
   "source": [
    "origin = np.mean([embryo.final[c] for c in embryo.all_cells if embryo.tissue[c] in [30, 31]], axis=0)\n",
    "origin = np.hstack([origin, 50])\n",
    "angles = np.array([180, 0., 0.])\n",
    "\n",
    "# Use the line below before a plot to plot it with dark background\n",
    "# When using this command line you need to ident the line below\n",
    "# with plt.style.context('dark_background'):\n",
    "\n",
    "# Basic plot\n",
    "points_to_plot = embryo.plot_slice(angles, colors_paper, origin=origin, thickness=50,\n",
    "                                   gene=['Sox2', 'T'], tissues=[31], nb_interp=5)\n",
    "\n",
    "# Reducing the min and max values to make the plot less dark\n",
    "# Changing the alpha to .7, the linewidth to 0 and the dot size to 15\n",
    "points_to_plot = embryo.plot_slice(angles, colors_paper, origin=origin, thickness=50,\n",
    "                                   gene=['Sox2', 'T'], tissues=[31], nb_interp=5,\n",
    "                                   alpha=.7, linewidth=0, main_bi_color='g', s=15, min_g1=-1, min_g2=-1)\n",
    "\n",
    "# Example changing the main color to red and using a black background\n",
    "with plt.style.context('dark_background'):\n",
    "    points_to_plot = embryo.plot_slice(angles, colors_paper, origin=origin, thickness=50,\n",
    "                                       gene=['T', 'Sox2'], tissues=[31], nb_interp=5,\n",
    "                                       main_bi_color='r')\n",
    "\n",
    "# Example with the scale (parameter `path_scale`)\n",
    "# together with change of the min_g1 and min_g2 to show the difference\n",
    "# Moreover, because the line is still indented (shifted to the right),\n",
    "# the dark background is still active\n",
    "    points_to_plot = embryo.plot_slice(angles, colors_paper, origin=origin, thickness=50,\n",
    "                                       gene=['T', 'Sox2'], tissues=[31], nb_interp=5,\n",
    "                                       main_bi_color='b', path_scale='test.pdf', min_g1=.5, min_g2=.5)\n",
    "    \n",
    "# Back to normal indentation => back to white background\n",
    "points_to_plot = embryo.plot_slice(angles, colors_paper, origin=origin, thickness=50,\n",
    "                                   gene=['Sox2', 'T'], tissues=[31], nb_interp=5,\n",
    "                                   alpha=.7, linewidth=0, main_bi_color='g', s=15, min_g1=-1, min_g2=-1)"
   ]
  },
  {
   "cell_type": "markdown",
   "id": "18e571fb",
   "metadata": {},
   "source": [
    "## Saving the slice as a .ply\n",
    "### With tissue colors"
   ]
  },
  {
   "cell_type": "code",
   "execution_count": null,
   "id": "61dd34f9",
   "metadata": {},
   "outputs": [],
   "source": [
    "origin = np.mean([embryo.final[c] for c in embryo.all_cells if embryo.tissue[c] in [30, 31]], axis=0)\n",
    "origin = np.hstack([origin, 80])\n",
    "angles = np.array([-5., 5., 0.])\n",
    "points_to_plot = embryo.ply_slice('out/slice.ply', angles, colors_paper, origin=origin,\n",
    "                                  tissues_colored=[18, 30, 31],\n",
    "                                  tissues=[18, 21, 30, 31, 34], nb_interp=5)"
   ]
  },
  {
   "cell_type": "markdown",
   "id": "a6babe0f",
   "metadata": {},
   "source": [
    "### With gene color"
   ]
  },
  {
   "cell_type": "code",
   "execution_count": null,
   "id": "f4059d85",
   "metadata": {},
   "outputs": [],
   "source": [
    "origin = np.mean([embryo.final[c] for c in embryo.all_cells if embryo.tissue[c] in [30, 31]], axis=0)\n",
    "origin = np.hstack([origin, 80])\n",
    "angles = np.array([-5., 5., 0.])\n",
    "points_to_plot = embryo.ply_slice('out/slice_genes.ply', angles, colors_paper, origin=origin,\n",
    "                                  tissues_colored=[18, 30, 31], gene='T',\n",
    "                                  tissues=[18, 30, 31], nb_interp=5)"
   ]
  },
  {
   "cell_type": "markdown",
   "id": "62ae66f9",
   "metadata": {},
   "source": [
    "## Saving slice as h5ad"
   ]
  },
  {
   "cell_type": "markdown",
   "id": "700dbd6f",
   "metadata": {},
   "source": [
    "### With interpolated slices but only a subset of genes"
   ]
  },
  {
   "cell_type": "code",
   "execution_count": null,
   "id": "3bac1da6",
   "metadata": {},
   "outputs": [],
   "source": [
    "origin = np.mean([embryo.final[c] for c in embryo.all_cells if embryo.tissue[c] in [30, 31]], axis=0)\n",
    "origin = np.hstack([origin, 80])\n",
    "angles = np.array([-5., 5., 0.])\n",
    "points_to_plot = embryo.anndata_slice('out/slice.h5ad', angles,\n",
    "                                      gene_list=genes_of_interest, origin=origin,\n",
    "                                      tissues=[18, 21, 30, 31, 34], nb_interp=5)"
   ]
  },
  {
   "cell_type": "markdown",
   "id": "5f7273e9",
   "metadata": {},
   "source": [
    "### Without interplated slices but with all genes"
   ]
  },
  {
   "cell_type": "code",
   "execution_count": null,
   "id": "d0b4d86f",
   "metadata": {},
   "outputs": [],
   "source": [
    "origin = np.mean([embryo.final[c] for c in embryo.all_cells if embryo.tissue[c] in [30, 31]], axis=0)\n",
    "origin = np.hstack([origin, 80])\n",
    "angles = np.array([-5., 5., 0.])\n",
    "embryo.anndata_no_extra('out/all.h5ad', angles, origin=origin)"
   ]
  },
  {
   "cell_type": "markdown",
   "id": "ca1d76c9",
   "metadata": {},
   "source": [
    "# Bonus: How to run multiple parameters at once:"
   ]
  },
  {
   "cell_type": "code",
   "execution_count": null,
   "id": "9d909e30",
   "metadata": {},
   "outputs": [],
   "source": [
    "# Tissues to plot in the pointcloud\n",
    "tissues_to_plot = [18, 21, 30, 31, 34]\n",
    "th_to_test = [.05, .1, .15, .2]\n",
    "\n",
    "for test_outlier_th in th_to_test[:1]:\n",
    "    # Load and reconstruct\n",
    "    embryo = Embryo(data_path, tissues_to_ignore, corres_tissues, tissue_weight=tissue_weight,\n",
    "                    xy_resolution=xy_resolution, genes_of_interest=genes_of_interest,\n",
    "                    nb_CS_begin_ignore=nb_CS_begin_ignore, nb_CS_end_ignore=nb_CS_end_ignore)\n",
    "    embryo.removing_spatial_outliers(th=test_outlier_th)\n",
    "    embryo.set_zpos()\n",
    "    embryo.reconstruct_intermediate(embryo, th_d=th_d, genes=genes_of_interest)\n",
    "    \n",
    "    # Writing the point cloud\n",
    "    points, colors = embryo.produce_em(nb_interp, tissues_to_plot)\n",
    "    pcd = o3d.geometry.PointCloud()\n",
    "    pcd.points = o3d.utility.Vector3dVector(points)\n",
    "    pcd.colors = o3d.utility.Vector3dVector([colors_paper[ci] for ci in colors])\n",
    "\n",
    "    # Make sure to have created the folder test-outlier-th before\n",
    "    o3d.io.write_point_cloud(f\"out/th_{th_to_test}.ply\", pcd)"
   ]
  }
 ],
 "metadata": {
  "kernelspec": {
   "display_name": "Python 3 (ipykernel)",
   "language": "python",
   "name": "python3"
  },
  "language_info": {
   "codemirror_mode": {
    "name": "ipython",
    "version": 3
   },
   "file_extension": ".py",
   "mimetype": "text/x-python",
   "name": "python",
   "nbconvert_exporter": "python",
   "pygments_lexer": "ipython3",
   "version": "3.8.0"
  }
 },
 "nbformat": 4,
 "nbformat_minor": 5
}
