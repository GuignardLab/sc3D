{
 "cells": [
  {
   "cell_type": "code",
   "execution_count": null,
   "id": "1f3d24be",
   "metadata": {},
   "outputs": [],
   "source": [
    "import json\n",
    "from matplotlib import pyplot as plt\n",
    "import numpy as np\n",
    "from sc3D import Embryo\n",
    "\n",
    "%matplotlib inline"
   ]
  },
  {
   "cell_type": "markdown",
   "id": "a4252ded",
   "metadata": {},
   "source": [
    "# Setting up parameters\n",
    "Note that it is necessary to download the E8.5.h5ad dataset!\n",
    "\n",
    "The dataset can be found [there](https://figshare.com/s/9c73df7fd39e3ca5422d)."
   ]
  },
  {
   "cell_type": "markdown",
   "id": "52716110",
   "metadata": {},
   "source": [
    "### Tissue name mapping and tissue colors can be loaded here"
   ]
  },
  {
   "cell_type": "code",
   "execution_count": null,
   "id": "06060a02",
   "metadata": {},
   "outputs": [],
   "source": [
    "corres_tissues = \"data/corresptissues.json\"\n",
    "with open(\"data/tissuescolor.json\") as f:\n",
    "    colors_paper = json.load(f)\n",
    "    colors_paper = {eval(k): v for k, v in colors_paper.items()}"
   ]
  },
  {
   "cell_type": "markdown",
   "id": "17b256ba",
   "metadata": {},
   "source": [
    "### Definition of the variables"
   ]
  },
  {
   "cell_type": "code",
   "execution_count": null,
   "id": "5018ec89",
   "metadata": {},
   "outputs": [],
   "source": [
    "# Path to the input data\n",
    "data_path = \"data/srt90.h5ad\"\n",
    "# Path to the output folder\n",
    "output_folder = \"out/\"\n",
    "\n",
    "# Set of genes that will be interpolated\n",
    "genes_of_interest = [\"T\", \"Sox2\"]\n",
    "\n",
    "# List of tissues that are ignored to do coverslip registration\n",
    "tissues_to_ignore = []  # 13, 15, 16, 22, 27, 29, 32, 36, 40, 41]\n",
    "\n",
    "# Coverslips to ignore\n",
    "# on the starting side\n",
    "nb_CS_begin_ignore = 0\n",
    "# on the ending side\n",
    "nb_CS_end_ignore = 0\n",
    "\n",
    "# Gives more weight to some tissues to help the alignment\n",
    "tissue_weight = {21: 2000, 18: 2000}\n",
    "# xy resolution\n",
    "xy_resolution = 0.6\n",
    "# Distance max that two beads can be linked together between coverslips\n",
    "th_d = 150\n",
    "# Threshold bellow which the beads will be considered noise.\n",
    "# Value between 0 (all beads taken) and 1 (almost no beads taken)\n",
    "outlier_threshold = 0.6\n",
    "\n",
    "# Number of interpolated layers between two consecutive coverslips\n",
    "nb_interp = 5"
   ]
  },
  {
   "cell_type": "markdown",
   "id": "f26e9ac7",
   "metadata": {},
   "source": [
    "### Loading the embryo and removing some spatial outliers"
   ]
  },
  {
   "cell_type": "code",
   "execution_count": null,
   "id": "feca794e",
   "metadata": {},
   "outputs": [],
   "source": [
    "embryo = Embryo(\n",
    "    data_path,\n",
    "    tissues_to_ignore,\n",
    "    corres_tissues,\n",
    "    tissue_weight=tissue_weight,\n",
    "    xy_resolution=xy_resolution,\n",
    "    genes_of_interest=genes_of_interest,\n",
    "    nb_CS_begin_ignore=nb_CS_begin_ignore,\n",
    "    nb_CS_end_ignore=nb_CS_end_ignore,\n",
    "    store_anndata=True,\n",
    "    tissue_id=\"first_type\",\n",
    ")\n",
    "embryo.removing_spatial_outliers(th=outlier_threshold)"
   ]
  },
  {
   "cell_type": "markdown",
   "id": "d77bc007",
   "metadata": {},
   "source": [
    "### Doing the spatial registration"
   ]
  },
  {
   "cell_type": "code",
   "execution_count": null,
   "id": "c30b6fb2",
   "metadata": {},
   "outputs": [],
   "source": [
    "embryo.registration_3d()"
   ]
  },
  {
   "cell_type": "markdown",
   "id": "f22267c7",
   "metadata": {},
   "source": [
    "## Saving the dataset\n",
    "The following line allows to save the dataset so you can then open it using our viewer."
   ]
  },
  {
   "cell_type": "code",
   "execution_count": null,
   "id": "4441412c",
   "metadata": {},
   "outputs": [],
   "source": [
    "embryo.save_anndata(output_folder + \"/E9.0_registered.h5ad\")"
   ]
  }
 ],
 "metadata": {
  "kernelspec": {
   "display_name": "Python 3 (ipykernel)",
   "language": "python",
   "name": "python3"
  },
  "language_info": {
   "codemirror_mode": {
    "name": "ipython",
    "version": 3
   },
   "file_extension": ".py",
   "mimetype": "text/x-python",
   "name": "python",
   "nbconvert_exporter": "python",
   "pygments_lexer": "ipython3",
   "version": "3.9.13"
  }
 },
 "nbformat": 4,
 "nbformat_minor": 5
}
