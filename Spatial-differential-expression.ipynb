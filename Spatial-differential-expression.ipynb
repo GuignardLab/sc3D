{
 "cells": [
  {
   "cell_type": "code",
   "execution_count": 1,
   "id": "c848057b",
   "metadata": {},
   "outputs": [
    {
     "name": "stdout",
     "output_type": "stream",
     "text": [
      "Jupyter environment detected. Enabling Open3D WebVisualizer.\n",
      "[Open3D INFO] WebRTC GUI backend enabled.\n",
      "[Open3D INFO] WebRTCWindowSystem: HTTP handshake server disabled.\n"
     ]
    },
    {
     "name": "stderr",
     "output_type": "stream",
     "text": [
      "INFO - 2021-11-26 17:53:18,988 - utils - Note: NumExpr detected 64 cores but \"NUMEXPR_MAX_THREADS\" not set, so enforcing safe limit of 8.\n",
      "INFO - 2021-11-26 17:53:18,989 - utils - NumExpr defaulting to 8 threads.\n"
     ]
    }
   ],
   "source": [
    "import json\n",
    "from matplotlib import pyplot as plt\n",
    "import numpy as np\n",
    "import open3d as o3d\n",
    "from src.EmbryoAlignment import Embryo\n",
    "import seaborn as sns\n",
    "from itertools import combinations\n",
    "from sklearn.decomposition import PCA\n",
    "from scipy.stats import median_abs_deviation\n",
    "from scipy.spatial import KDTree, ConvexHull, Delaunay\n",
    "from scipy.spatial.distance import pdist, squareform\n",
    "from sklearn import linear_model\n",
    "from sklearn.metrics import mean_squared_error, r2_score\n",
    "\n",
    "with open('data/corresptissues.json') as f:\n",
    "    corres_tissues = json.load(f)\n",
    "    corres_tissues = {eval(k): v for k, v in corres_tissues.items()}\n",
    "with open('data/tissuescolor.json') as f:\n",
    "    colors_paper = json.load(f)\n",
    "    colors_paper = {eval(k): v for k, v in colors_paper.items()}\n",
    "%matplotlib inline"
   ]
  },
  {
   "cell_type": "markdown",
   "id": "d803c127",
   "metadata": {},
   "source": [
    "# Setting up parameters"
   ]
  },
  {
   "cell_type": "code",
   "execution_count": 2,
   "id": "39f9ddf8",
   "metadata": {},
   "outputs": [],
   "source": [
    "# Path to the input data\n",
    "data_path = '../SpatialSC/Data/E8.5.h5ad'\n",
    "# Path to the output folder\n",
    "output_folder = 'out/'\n",
    "\n",
    "# Set of genes that will be interpolated\n",
    "genes_of_interest = ['Cck', 'Cnn1', 'Hbb-bh1', 'Nppa', 'Nppb', 'Tdgf1', 'Thbs4', 'Tnni3']\n",
    "\n",
    "# List of tissues that are ignored to do coverslip registration\n",
    "tissues_to_ignore = [13, 15, 16, 22, 27, 29, 32, 36, 40, 41]\n",
    "\n",
    "# Coverslips to ignore\n",
    "# on the starting side\n",
    "nb_CS_begin_ignore = 0\n",
    "# on the ending side\n",
    "nb_CS_end_ignore = 2\n",
    "\n",
    "# Gives more weight to some tissues to help the alignment\n",
    "tissue_weight = {21:1000, 18:1}\n",
    "# xy resolution\n",
    "xy_resolution = .6\n",
    "# Distance max that two beads can be linked together between coverslips\n",
    "th_d = 150\n",
    "# Threshold bellow which the beads will be considered noise.\n",
    "# Value between 0 (all beads taken) and 1 (almost no beads taken)\n",
    "outlier_threshold = .1\n",
    "\n",
    "# Number of interpolated layers between two consecutive coverslips\n",
    "nb_interp = 5"
   ]
  },
  {
   "cell_type": "markdown",
   "id": "6573474f",
   "metadata": {},
   "source": [
    "# Loading the embryo"
   ]
  },
  {
   "cell_type": "code",
   "execution_count": 3,
   "id": "ec7ea06c",
   "metadata": {},
   "outputs": [],
   "source": [
    "embryo = Embryo(data_path, tissues_to_ignore, corres_tissues, tissue_weight=tissue_weight,\n",
    "                xy_resolution=xy_resolution, genes_of_interest=genes_of_interest,\n",
    "                nb_CS_begin_ignore=nb_CS_begin_ignore, nb_CS_end_ignore=nb_CS_end_ignore,\n",
    "                store_anndata=True)\n",
    "embryo.removing_spatial_outliers(th=outlier_threshold)\n",
    "embryo.reconstruct_intermediate(embryo, th_d=th_d, genes=genes_of_interest)"
   ]
  },
  {
   "cell_type": "markdown",
   "id": "98cece66",
   "metadata": {},
   "source": [
    "### Pre-processing the differential expression values\n",
    "It can take a decent amount of time.\n",
    "\n",
    "Moreover, it is likely that using a computer with decent amount of RAM is better\n",
    "\n",
    "The list `tissues_to_process` contains the list of tissue ids that will be processed.\n",
    "\n",
    "`th_vol` relates to the ratio of expressing cells over total number of cells for a given tissue. Any gene that have an expression volume ratio lower than `th_vol` or higher than `1-th_vol` is discarded.\n",
    "\n",
    "Setting `th_vol` to `0` will consider all the genes. **It is not recommended.**\n",
    "\n",
    "A value of `0.025` as in the following example means that the gene expression volume has to be higher than 2.5% and lower than 98.5% of the total volume of the tissue.\n",
    "\n",
    "The function `get_3D_differential_expression` returns a Pandas dataframe that one could work with if wanted.\n",
    "\n",
    "This dataframe can also be found later at `embryo.diff_expressed_3D`."
   ]
  },
  {
   "cell_type": "code",
   "execution_count": 4,
   "id": "f2f2de81",
   "metadata": {},
   "outputs": [
    {
     "name": "stderr",
     "output_type": "stream",
     "text": [
      "/home/guignard/workspace/scSpatial/src/EmbryoAlignment.py:938: RuntimeWarning: invalid value encountered in true_divide\n",
      "  mean1 = np.cumsum(hist * bin_centers) / weight1\n",
      "/home/guignard/workspace/scSpatial/src/EmbryoAlignment.py:939: RuntimeWarning: invalid value encountered in true_divide\n",
      "  mean2 = (np.cumsum((hist * bin_centers)[::-1]) / weight2[::-1])[::-1]\n",
      "/home/guignard/miniconda3/envs/SpatialSCII/lib/python3.8/site-packages/numpy/core/fromnumeric.py:3440: RuntimeWarning: Mean of empty slice.\n",
      "  return _methods._mean(a, axis=axis, dtype=dtype,\n",
      "/home/guignard/miniconda3/envs/SpatialSCII/lib/python3.8/site-packages/numpy/core/_methods.py:189: RuntimeWarning: invalid value encountered in double_scalars\n",
      "  ret = ret.dtype.type(ret / rcount)\n"
     ]
    }
   ],
   "source": [
    "tissues_to_process = [5, 10, 12, 18, 21, 24, 30, 31, 33, 34, 39]\n",
    "th_vol = .025\n",
    "_ = embryo.get_3D_differential_expression(tissues_to_process, th_vol);"
   ]
  },
  {
   "cell_type": "markdown",
   "id": "e8c598c9",
   "metadata": {},
   "source": [
    "If one wants to add a tissue to the set of tissues already treated, it can be done easily and will be much faster since all the pre-processing is stored."
   ]
  },
  {
   "cell_type": "code",
   "execution_count": 5,
   "id": "13218793",
   "metadata": {},
   "outputs": [],
   "source": [
    "_ = embryo.get_3D_differential_expression([30], th_vol);"
   ]
  },
  {
   "cell_type": "markdown",
   "id": "bdfdf286",
   "metadata": {},
   "source": [
    "### Plotting the top `nb_genes` differentially expressed\n",
    "The method `plot_top_3D_diff_expr_genes` allows to plot the top `nb_genes` that are spatially differentially expressed in a set of tissues `tissues_to_process`.\n",
    "\n",
    "One can also allow or not gene repetition by changing the argument `repetition_allowed` from `False` to `True`. The default value is `False` meaning that repetitions are **not** allowed.\n",
    "\n",
    "One can also decide to plot the original values or the z-scored values by changing the argument `compute_z_score`. Its value is `True` by default meaning that the z-score is plotted.\n",
    "\n",
    "Ultimately, one can provide a matplotlib figure and a matplotib axis through the arguments `fig` and `ax`. By default none are specified and they are created within the function and returned by the function."
   ]
  },
  {
   "cell_type": "code",
   "execution_count": 54,
   "id": "70802798",
   "metadata": {},
   "outputs": [],
   "source": [
    "    def plot_top_3D_diff_expr_genes(self, tissues_to_process, nb_genes=20,\n",
    "                                   repetition_allowed=False, compute_z_score=True,\n",
    "                                   fig=None, ax=None):\n",
    "        from collections import Counter\n",
    "        tmp_T = set(tissues_to_process).difference(self.tissues_diff_expre_processed)\n",
    "        if len(tmp_T) != 0:\n",
    "            print(\"You asked to plot tissue(s) that were not already processed\")\n",
    "            print(\"The following tissue(s) will be ignored:\")\n",
    "            for t in tmp_T:\n",
    "                print(f\"\\t - id: {t}, name: {self.corres_tissue[t]}\")\n",
    "        tissues_to_process = list(set(tissues_to_process).intersection(self.tissues_diff_expre_processed))\n",
    "        genes_of_interest = []\n",
    "        gene_dict = {}\n",
    "        tissue_genes = {}\n",
    "        genes_in = {}\n",
    "        added_genes = 1 if repetition_allowed else 4\n",
    "        for t in tissues_to_process:\n",
    "            data_t = self.diff_expressed_3D[t]\n",
    "            G_N = data_t.sort_values('Distance_to_reg')['Interesting genes'][:-nb_genes*added_genes-1:-1]\n",
    "            G_V = data_t.sort_values('Distance_to_reg')['Distance_to_reg'][:-nb_genes*added_genes-1:-1]\n",
    "            genes_of_interest.extend(G_N[:nb_genes])\n",
    "            for g, v in zip(G_N, G_V):\n",
    "                tissue_genes.setdefault(g, []).append(t)\n",
    "                gene_dict[(t, g)] = v\n",
    "            genes_in[t] = list(G_N)\n",
    "\n",
    "        if not repetition_allowed:\n",
    "            dict_counter = Counter(genes_of_interest)\n",
    "            acc = 0\n",
    "            while any([1<k for k in dict_counter.values()]):\n",
    "                t = tissues_to_process[acc%len(tissues_to_process)]\n",
    "                for g in genes_in[t]:\n",
    "                    if 1<dict_counter[g]:\n",
    "                        tissues = np.array(tissue_genes[g])\n",
    "                        values = [gene_dict[(t, g)] for t in tissues]\n",
    "                        if tissues[np.argsort(values)][-1]!=t:\n",
    "                            genes_in[t].remove(g)\n",
    "                genes_of_interest = []\n",
    "                for t in tissues_to_process:\n",
    "                    genes_of_interest.extend(genes_in[t][:nb_genes])\n",
    "                dict_counter = Counter(genes_of_interest)\n",
    "                acc += 1\n",
    "        values = np.zeros((nb_genes*len(tissues_to_process), len(tissues_to_process)))\n",
    "        tissue_order = []\n",
    "        for i, g in enumerate(genes_of_interest):\n",
    "            for j, t in enumerate(tissues_to_process):\n",
    "                data_t = self.diff_expressed_3D[t]\n",
    "                if g in data_t['Interesting genes'].values:\n",
    "                    values[i, j] = data_t[data_t['Interesting genes']==g]['Distance_to_reg']\n",
    "                if i==0:\n",
    "                    tissue_order.append(t)\n",
    "        # z_score = (values - np.mean(values, axis=1).reshape(-1, 1))/np.std(values, axis=1).reshape(-1, 1)\n",
    "        if compute_z_score:\n",
    "            z_score = stats.zscore(values, axis=0)\n",
    "        if ax is None:\n",
    "            fig, ax = plt.subplots(figsize=(5,max(5, round(1.5*nb_genes))))\n",
    "        if fig is None:\n",
    "            fig = ax.get_figure()\n",
    "        ax.imshow(z_score, interpolation='nearest', cmap='Reds')\n",
    "        ax.set_xticks(range(len(tissue_order)))\n",
    "        ax.set_xticklabels([self.corres_tissue[t] for t in tissue_order], rotation=90)\n",
    "        ax.set_yticks(range(values.shape[0]))\n",
    "        ax.set_yticklabels(list(self.anndata[:,genes_of_interest].var_names))\n",
    "        fig.tight_layout()\n",
    "        return fig, ax"
   ]
  },
  {
   "cell_type": "code",
   "execution_count": 58,
   "id": "d49eb203",
   "metadata": {},
   "outputs": [
    {
     "name": "stdout",
     "output_type": "stream",
     "text": [
      "You asked to plot tissue(s) that were not already processed\n",
      "The following tissue(s) will be ignored:\n",
      "\t - 32\n"
     ]
    },
    {
     "data": {
      "image/png": "[encoded data removed]",
      "text/plain": [
       "<Figure size 360x360 with 1 Axes>"
      ]
     },
     "metadata": {
      "needs_background": "light"
     },
     "output_type": "display_data"
    },
    {
     "data": {
      "image/png": "[encoded data removed]",
      "text/plain": [
       "<Figure size 360x360 with 1 Axes>"
      ]
     },
     "metadata": {
      "needs_background": "light"
     },
     "output_type": "display_data"
    }
   ],
   "source": [
    "# Note that not all the tissues have to be plotted. Also, if a tissue asked\n",
    "# has not already been computed, the function informs the user about it.\n",
    "embryo.plot_top_3D_diff_expr_genes(tissues_to_process[:4]+[30, 31, 32], nb_genes=2);\n",
    "\n",
    "# All the tissues plotted, 4 genes per tissues, repetition allowed,\n",
    "# and the original values are plotted (not z-scored)\n",
    "embryo.plot_top_3D_diff_expr_genes(tissues_to_process, nb_genes=2, repetition_allowed=False, z-);"
   ]
  },
  {
   "cell_type": "code",
   "execution_count": 56,
   "id": "d89e90b6",
   "metadata": {},
   "outputs": [
    {
     "data": {
      "text/html": [
       "<div>\n",
       "<style scoped>\n",
       "    .dataframe tbody tr th:only-of-type {\n",
       "        vertical-align: middle;\n",
       "    }\n",
       "\n",
       "    .dataframe tbody tr th {\n",
       "        vertical-align: top;\n",
       "    }\n",
       "\n",
       "    .dataframe thead th {\n",
       "        text-align: right;\n",
       "    }\n",
       "</style>\n",
       "<table border=\"1\" class=\"dataframe\">\n",
       "  <thead>\n",
       "    <tr style=\"text-align: right;\">\n",
       "      <th></th>\n",
       "      <th>volume</th>\n",
       "      <th>avg_nb_neighbs</th>\n",
       "      <th>Distance_to_reg</th>\n",
       "      <th>Interesting genes</th>\n",
       "      <th>Gene names</th>\n",
       "    </tr>\n",
       "  </thead>\n",
       "  <tbody>\n",
       "    <tr>\n",
       "      <th>160</th>\n",
       "      <td>0.092282</td>\n",
       "      <td>0.162121</td>\n",
       "      <td>0.225026</td>\n",
       "      <td>484</td>\n",
       "      <td>Cpn1</td>\n",
       "    </tr>\n",
       "    <tr>\n",
       "      <th>177</th>\n",
       "      <td>0.443512</td>\n",
       "      <td>0.310845</td>\n",
       "      <td>0.176951</td>\n",
       "      <td>529</td>\n",
       "      <td>Cyp26a1</td>\n",
       "    </tr>\n",
       "    <tr>\n",
       "      <th>601</th>\n",
       "      <td>0.082774</td>\n",
       "      <td>0.131757</td>\n",
       "      <td>0.172639</td>\n",
       "      <td>1859</td>\n",
       "      <td>Rhox5</td>\n",
       "    </tr>\n",
       "    <tr>\n",
       "      <th>323</th>\n",
       "      <td>0.135347</td>\n",
       "      <td>0.155992</td>\n",
       "      <td>0.169467</td>\n",
       "      <td>1082</td>\n",
       "      <td>Hes3</td>\n",
       "    </tr>\n",
       "    <tr>\n",
       "      <th>223</th>\n",
       "      <td>0.108501</td>\n",
       "      <td>0.140464</td>\n",
       "      <td>0.164661</td>\n",
       "      <td>656</td>\n",
       "      <td>Epcam</td>\n",
       "    </tr>\n",
       "    <tr>\n",
       "      <th>488</th>\n",
       "      <td>0.205817</td>\n",
       "      <td>0.184783</td>\n",
       "      <td>0.157684</td>\n",
       "      <td>1488</td>\n",
       "      <td>Nin</td>\n",
       "    </tr>\n",
       "    <tr>\n",
       "      <th>319</th>\n",
       "      <td>0.180649</td>\n",
       "      <td>0.171827</td>\n",
       "      <td>0.156442</td>\n",
       "      <td>1074</td>\n",
       "      <td>Hbb-bh1</td>\n",
       "    </tr>\n",
       "    <tr>\n",
       "      <th>748</th>\n",
       "      <td>0.029083</td>\n",
       "      <td>0.096154</td>\n",
       "      <td>0.153758</td>\n",
       "      <td>2237</td>\n",
       "      <td>Trap1a</td>\n",
       "    </tr>\n",
       "    <tr>\n",
       "      <th>389</th>\n",
       "      <td>0.151007</td>\n",
       "      <td>0.155556</td>\n",
       "      <td>0.152918</td>\n",
       "      <td>1200</td>\n",
       "      <td>Irx3</td>\n",
       "    </tr>\n",
       "    <tr>\n",
       "      <th>318</th>\n",
       "      <td>0.195190</td>\n",
       "      <td>0.171920</td>\n",
       "      <td>0.142091</td>\n",
       "      <td>1073</td>\n",
       "      <td>Hba-x</td>\n",
       "    </tr>\n",
       "  </tbody>\n",
       "</table>\n",
       "</div>"
      ],
      "text/plain": [
       "       volume  avg_nb_neighbs  Distance_to_reg  Interesting genes Gene names\n",
       "160  0.092282        0.162121         0.225026                484       Cpn1\n",
       "177  0.443512        0.310845         0.176951                529    Cyp26a1\n",
       "601  0.082774        0.131757         0.172639               1859      Rhox5\n",
       "323  0.135347        0.155992         0.169467               1082       Hes3\n",
       "223  0.108501        0.140464         0.164661                656      Epcam\n",
       "488  0.205817        0.184783         0.157684               1488        Nin\n",
       "319  0.180649        0.171827         0.156442               1074    Hbb-bh1\n",
       "748  0.029083        0.096154         0.153758               2237     Trap1a\n",
       "389  0.151007        0.155556         0.152918               1200       Irx3\n",
       "318  0.195190        0.171920         0.142091               1073      Hba-x"
      ]
     },
     "execution_count": 56,
     "metadata": {},
     "output_type": "execute_result"
    },
    {
     "data": {
      "image/png": "[encoded data removed]",
      "text/plain": [
       "<Figure size 720x576 with 1 Axes>"
      ]
     },
     "metadata": {
      "needs_background": "light"
     },
     "output_type": "display_data"
    }
   ],
   "source": [
    "embryo.plot_volume_vs_neighbs(31, print_genes=['T', 'Sox2', 'Sox3',\n",
    "                                               'Hes3', 'Hoxb9', 'Cyp26a1',\n",
    "                                               'Rspo3', 'Hoxd9'],\n",
    "                              path_to_fig='.', palette='Reds')\n",
    "embryo.print_diff_expr_genes(tissue=31, nb=10)"
   ]
  },
  {
   "cell_type": "markdown",
   "id": "948036a9",
   "metadata": {},
   "source": [
    "# Defining the tissue and some parameters"
   ]
  },
  {
   "cell_type": "code",
   "execution_count": null,
   "id": "25c4b194",
   "metadata": {},
   "outputs": [],
   "source": [
    "# Tissue\n",
    "t = 21\n",
    "\n",
    "# Looking for positions of low expression\n",
    "invert = False\n",
    "\n",
    "# Volume threshold below which genes are ignored\n",
    "th_vol = 0.8*1e6\n",
    "\n",
    "# Bead size (Might be wrong now but does not change the resulting genes)\n",
    "bead_size = (10*10*30)\n",
    "\n",
    "# Values against which the linear regression is done\n",
    "# It is important that the relationship between x and y is linear!!!\n",
    "# NOTE: For commodity; this value is redefined later\n",
    "regression_x = 'avg_nb_neighbs'\n",
    "regression_y = 'volume'\n",
    "\n",
    "# Distance to the regression line above which a gene is considered an outlier\n",
    "# (the higher the value is the more stringent the classifier is)\n",
    "# NOTE: For commodity; this value is redefined later\n",
    "th_pos = 7*1e6"
   ]
  },
  {
   "cell_type": "markdown",
   "id": "f1715f68",
   "metadata": {},
   "source": [
    "# Preparing the data"
   ]
  },
  {
   "cell_type": "code",
   "execution_count": null,
   "id": "2d4511f0",
   "metadata": {},
   "outputs": [],
   "source": [
    "# Copying the data to make sure not to alter the original\n",
    "data = embryo.anndata.copy().X\n",
    "if invert:\n",
    "    data = np.max(data) - data\n",
    "\n",
    "# Computing the threshold value above which a cell is considered positive for a given gene expression value\n",
    "# A unique threshold is computed for each gene assuming that within the embryo there are cells that express\n",
    "# and cells that do not express (meaning that the threshold splits the distribution in two classes)\n",
    "out = map(threshold_otsu, data.T)\n",
    "th = []\n",
    "for o in out:\n",
    "    th += [o]\n",
    "th = np.array(th)\n",
    "\n",
    "# Cells from tissue *t*\n",
    "cells = np.array([c for c in embryo.all_cells if embryo.tissue[c]==t])\n",
    "\n",
    "# Splicing the array to only have tissue *t* cells\n",
    "sub_data = data[cells]\n",
    "\n",
    "# Total volume of the tissue (ie nb beads * bead size)\n",
    "volume_total = len(cells) * bead_size\n",
    "\n",
    "# Total volume of expressing cells\n",
    "sub_volumes = np.sum(th<sub_data, axis=0) * bead_size\n",
    "\n",
    "# Genes that have an expressing volume of at least th_vol\n",
    "interesting_genes = np.where(th_vol<sub_volumes)[0]"
   ]
  },
  {
   "cell_type": "markdown",
   "id": "1846333b",
   "metadata": {},
   "source": [
    "# Computing the spatial metrics"
   ]
  },
  {
   "cell_type": "code",
   "execution_count": null,
   "id": "b25641b0",
   "metadata": {},
   "outputs": [],
   "source": [
    "# Compute spatial metrics for the set of interesting genes\n",
    "from multiprocessing import Pool\n",
    "with Pool() as pool:\n",
    "    out = pool.map(compute_vol_metrics, interesting_genes)\n",
    "(avg_nb_neighbs, closest,\n",
    " diameter, med_min, med_max,\n",
    " med_dist, solidity) = [], [], [], [], [], [], []\n",
    "for (av_n, close, dia, m_min, m_max, m_dist, soli) in out:\n",
    "    avg_nb_neighbs.append(av_n)\n",
    "    closest.append(close)\n",
    "    diameter.append(dia)\n",
    "    med_min.append(m_min)\n",
    "    med_max.append(m_max)\n",
    "    med_dist.append(m_dist)\n",
    "    solidity.append(soli)\n",
    "    \n",
    "# Build a dataframe with the previously computed metrics\n",
    "data_plot = {\n",
    "    'volume log': np.log(sub_volumes[th_vol<sub_volumes]),\n",
    "    'volume': sub_volumes[th_vol<sub_volumes],\n",
    "    'volume ratio': sub_volumes[th_vol<sub_volumes]/volume_total,\n",
    "    'avg_nb_neighbs': np.array(avg_nb_neighbs),\n",
    "    'closest': np.array(closest),\n",
    "    'diameter': np.array(diameter),\n",
    "    'med_min': np.array(med_min),\n",
    "    'med_max': np.array(med_max),\n",
    "    'med_dist': np.array(med_dist),\n",
    "    'solidity': np.array(solidity)\n",
    "}"
   ]
  },
  {
   "cell_type": "markdown",
   "id": "1f17cf3e",
   "metadata": {},
   "source": [
    "# Computing the linear regression to find the regionalized genes"
   ]
  },
  {
   "cell_type": "code",
   "execution_count": null,
   "id": "3a95f4fb",
   "metadata": {},
   "outputs": [],
   "source": [
    "# Compute the linear regression\n",
    "# Distance to the regression line above which a gene is considered an outlier\n",
    "# (the higher the value is the more stringent the classifier is)\n",
    "# It might be interesting to play with this value.\n",
    "th_pos = 8*1e5\n",
    "\n",
    "# Value against which the linear regression is done\n",
    "# It is important that the relationship between x and y is linear!!!\n",
    "regression_x = 'avg_nb_neighbs'\n",
    "regression_y = 'volume'\n",
    "\n",
    "regr = linear_model.LinearRegression()\n",
    "data_x_reshaped = data_plot[regression_x].reshape(-1,1)\n",
    "data_y_reshaped = data_plot[regression_y].reshape(-1,1)\n",
    "regr.fit(data_x_reshaped, data_y_reshaped)\n",
    "b = regr.intercept_[0]\n",
    "a = regr.coef_[0][0]\n",
    "line = lambda x: (a*np.array(x)+b)\n",
    "X = np.linspace(np.min(data_plot[regression_x]), np.max(data_plot[regression_x]), 100)\n",
    "\n",
    "data_plot['Distance_to_reg'] = np.abs((data_y_reshaped-regr.predict(data_x_reshaped))[:,0])\n",
    "data_plot['Outlier\\n(nb neighbs)'] = th_pos<data_plot['Distance_to_reg']"
   ]
  },
  {
   "cell_type": "markdown",
   "id": "41dd1416",
   "metadata": {},
   "source": [
    "# Plotting the results"
   ]
  },
  {
   "cell_type": "code",
   "execution_count": null,
   "id": "2c6a6c9a",
   "metadata": {},
   "outputs": [],
   "source": [
    "fig, ax = plt.subplots(figsize=(10, 8))\n",
    "x = 'avg_nb_neighbs'\n",
    "y = 'volume'\n",
    "print_text = True\n",
    "sns.scatterplot(data=data_plot, x=x, y=y, ax=ax, hue='Outlier\\n(nb neighbs)')\n",
    "if x==regression_x:\n",
    "    ax.plot(X, line(X), '-')\n",
    "not_to_take = lambda c: embryo.final[c][0]<0\n",
    "found_g = set(embryo.anndata[:,interesting_genes[data_plot['Outlier\\n(nb neighbs)']]].var_names)\n",
    "print(found_g)\n",
    "\n",
    "if print_text:\n",
    "    for i, gene in enumerate(np.where(data_plot['Outlier\\n(nb neighbs)'])[0]):\n",
    "        txt = embryo.anndata[:,interesting_genes[gene]].var_names[0]\n",
    "        plt.text(x=data_plot[x][gene]+.01,y=data_plot[y][gene],s=txt, \n",
    "                 fontdict=dict(color='red',size=8), va='baseline')\n",
    "        \n",
    "fig.tight_layout()\n",
    "fig.savefig(f'{x}_{y}_{corres_tissues[t]}.pdf')"
   ]
  },
  {
   "cell_type": "code",
   "execution_count": null,
   "id": "b21d13c1",
   "metadata": {},
   "outputs": [],
   "source": [
    "sorted(found_g)"
   ]
  }
 ],
 "metadata": {
  "kernelspec": {
   "display_name": "Python 3 (ipykernel)",
   "language": "python",
   "name": "python3"
  },
  "language_info": {
   "codemirror_mode": {
    "name": "ipython",
    "version": 3
   },
   "file_extension": ".py",
   "mimetype": "text/x-python",
   "name": "python",
   "nbconvert_exporter": "python",
   "pygments_lexer": "ipython3",
   "version": "3.8.11"
  }
 },
 "nbformat": 4,
 "nbformat_minor": 5
}
