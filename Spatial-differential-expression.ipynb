{
 "cells": [
  {
   "cell_type": "code",
   "execution_count": null,
   "id": "c848057b",
   "metadata": {},
   "outputs": [],
   "source": [
    "import json\n",
    "from matplotlib import pyplot as plt\n",
    "import numpy as np\n",
    "import open3d as o3d\n",
    "from src.EmbryoAlignment import Embryo\n",
    "import seaborn as sns\n",
    "from itertools import combinations\n",
    "from sklearn.decomposition import PCA\n",
    "from scipy.stats import median_abs_deviation\n",
    "from scipy.spatial import KDTree, ConvexHull, Delaunay\n",
    "from scipy.spatial.distance import pdist, squareform\n",
    "from sklearn import linear_model\n",
    "from sklearn.metrics import mean_squared_error, r2_score\n",
    "\n",
    "with open('data/corresptissues.json') as f:\n",
    "    corres_tissues = json.load(f)\n",
    "    corres_tissues = {eval(k): v for k, v in corres_tissues.items()}\n",
    "with open('data/tissuescolor.json') as f:\n",
    "    colors_paper = json.load(f)\n",
    "    colors_paper = {eval(k): v for k, v in colors_paper.items()}\n",
    "%matplotlib inline"
   ]
  },
  {
   "cell_type": "markdown",
   "id": "d803c127",
   "metadata": {},
   "source": [
    "# Setting up parameters"
   ]
  },
  {
   "cell_type": "code",
   "execution_count": null,
   "id": "39f9ddf8",
   "metadata": {},
   "outputs": [],
   "source": [
    "# Path to the input data\n",
    "data_path = '../SpatialSC/Data/E8.5.h5ad'\n",
    "# Path to the output folder\n",
    "output_folder = 'out/'\n",
    "\n",
    "# Set of genes that will be interpolated\n",
    "genes_of_interest = ['Cck', 'Cnn1', 'Hbb-bh1', 'Nppa', 'Nppb', 'Tdgf1', 'Thbs4', 'Tnni3']\n",
    "\n",
    "# List of tissues that are ignored to do coverslip registration\n",
    "tissues_to_ignore = [13, 15, 16, 22, 27, 29, 32, 36, 40, 41]\n",
    "\n",
    "# Coverslips to ignore\n",
    "# on the starting side\n",
    "nb_CS_begin_ignore = 0\n",
    "# on the ending side\n",
    "nb_CS_end_ignore = 2\n",
    "\n",
    "# Gives more weight to some tissues to help the alignment\n",
    "tissue_weight = {21:1000, 18:1}\n",
    "# xy resolution\n",
    "xy_resolution = .6\n",
    "# Distance max that two beads can be linked together between coverslips\n",
    "th_d = 150\n",
    "# Threshold bellow which the beads will be considered noise.\n",
    "# Value between 0 (all beads taken) and 1 (almost no beads taken)\n",
    "outlier_threshold = .1\n",
    "\n",
    "# Number of interpolated layers between two consecutive coverslips\n",
    "nb_interp = 5"
   ]
  },
  {
   "cell_type": "markdown",
   "id": "6573474f",
   "metadata": {},
   "source": [
    "# Loading the embryo"
   ]
  },
  {
   "cell_type": "code",
   "execution_count": null,
   "id": "ec7ea06c",
   "metadata": {},
   "outputs": [],
   "source": [
    "embryo = Embryo(data_path, tissues_to_ignore, corres_tissues, tissue_weight=tissue_weight,\n",
    "                xy_resolution=xy_resolution, genes_of_interest=genes_of_interest,\n",
    "                nb_CS_begin_ignore=nb_CS_begin_ignore, nb_CS_end_ignore=nb_CS_end_ignore,\n",
    "                store_anndata=True)\n",
    "embryo.removing_spatial_outliers(th=outlier_threshold)\n",
    "embryo.reconstruct_intermediate(embryo, th_d=th_d, genes=genes_of_interest)"
   ]
  },
  {
   "cell_type": "markdown",
   "id": "26916658",
   "metadata": {},
   "source": [
    "# Definition of some functions"
   ]
  },
  {
   "cell_type": "code",
   "execution_count": null,
   "id": "f5337115",
   "metadata": {},
   "outputs": [],
   "source": [
    "def build_gabriel_graph(self, node_ids, pos):\n",
    "    tmp = Delaunay(pos)\n",
    "    delaunay_graph = {}\n",
    "\n",
    "    for N in tmp.simplices:\n",
    "        for e1, e2 in combinations(np.sort(N), 2):\n",
    "            delaunay_graph.setdefault(e1, set()).add(e2)\n",
    "            delaunay_graph.setdefault(e2, set()).add(e1)\n",
    "    Gabriel_graph = {}\n",
    "\n",
    "    for e1, neighbs in delaunay_graph.items():\n",
    "        for ni in neighbs:\n",
    "            if not any([np.linalg.norm((pos[ni] + pos[e1])/2 - pos[i])<np.linalg.norm(pos[ni] - pos[e1])/2\n",
    "                    for i in delaunay_graph[e1].intersection(delaunay_graph[ni])]):\n",
    "                Gabriel_graph.setdefault(e1, set()).add(ni)\n",
    "                Gabriel_graph.setdefault(ni, set()).add(e1)\n",
    "\n",
    "    final_GG = {}\n",
    "    for e1, neighbs in Gabriel_graph.items():\n",
    "        neighbs = np.array(list(neighbs))\n",
    "        distances = np.linalg.norm(pos[e1] - [pos[ni] for ni in neighbs], axis=1)\n",
    "        final_GG[node_ids[e1]] = set([node_ids[ni] for ni in neighbs[distances<=5*np.median(distances)]])\n",
    "    return final_GG\n",
    "\n",
    "def threshold_otsu(values, nbins=256):\n",
    "    \"\"\"Return threshold value based on Otsu's method.\n",
    "        Parameters\n",
    "        ----------\n",
    "        image : array\n",
    "        Input image.\n",
    "        nbins : int\n",
    "        Number of bins used to calculate histogram. This value is ignored for\n",
    "        integer arrays.\n",
    "        Returns\n",
    "        -------\n",
    "        threshold : float\n",
    "        Threshold value.\n",
    "        References\n",
    "        ----------\n",
    "        .. [1] Wikipedia, http://en.wikipedia.org/wiki/Otsu's_Method\n",
    "    \"\"\"\n",
    "    map(np.histogram, values)\n",
    "    hist, bin_edges = np.histogram(values, nbins)\n",
    "    bin_centers = (bin_edges[:-1] + bin_edges[1:]) / 2.\n",
    "    \n",
    "    hist = hist.astype(float)\n",
    "\n",
    "    # class probabilities for all possible thresholds\n",
    "    weight1 = np.cumsum(hist)\n",
    "    weight2 = np.cumsum(hist[::-1])[::-1]\n",
    "    # class means for all possible thresholds\n",
    "    mean1 = np.cumsum(hist * bin_centers) / weight1\n",
    "    mean2 = (np.cumsum((hist * bin_centers)[::-1]) / weight2[::-1])[::-1]\n",
    "\n",
    "    # Clip ends to align class 1 and class 2 variables:\n",
    "    # The last value of `weight1`/`mean1` should pair with zero values in\n",
    "    # `weight2`/`mean2`, which do not exist.\n",
    "    variance12 = weight1[:-1] * weight2[1:] * (mean1[:-1] - mean2[1:]) ** 2\n",
    "\n",
    "    idx = np.argmax(variance12)\n",
    "    threshold = bin_centers[:-1][idx]\n",
    "    return threshold\n",
    "\n",
    "def compute_vol_metrics(gene, percentile=5):\n",
    "    positive_cells = np.where(th[gene]<sub_data[:,gene])[0]\n",
    "    positive_cells = cells[positive_cells]\n",
    "    positive_cells_set = set(list(positive_cells))\n",
    "    nb_neighbs = []\n",
    "    for p in positive_cells:\n",
    "        nb_neighbs.append(len([n for n in GG[p] if n in positive_cells]))\n",
    "    avg_nb_neighbs = np.mean(nb_neighbs)\n",
    "    \n",
    "    positive_positions = [list(embryo.final[c])+[embryo.z_pos[c]] for c in positive_cells]\n",
    "    distances = pdist(positive_positions)\n",
    "    D_mat = squareform(distances)\n",
    "    D_mat[D_mat==0] = np.nan\n",
    "    \n",
    "    closest = np.percentile(np.nanmin(D_mat, axis=0), percentile)\n",
    "    diameter = np.percentile(np.nanmax(D_mat, axis=0), 100-percentile)\n",
    "    med_min = np.median(np.nanmin(D_mat, axis=0))\n",
    "    med_max = np.median(np.nanmax(D_mat, axis=0))\n",
    "    med_dist = np.median(distances)\n",
    "    ch = ConvexHull(positive_positions)\n",
    "    solidity = len(positive_positions)*bead_size/ch.volume\n",
    "    return (avg_nb_neighbs, closest,\n",
    "            diameter, med_min, med_max,\n",
    "            med_dist, solidity)"
   ]
  },
  {
   "cell_type": "markdown",
   "id": "c1d87755",
   "metadata": {},
   "source": [
    "# Building of the gabriel graph necessary to compute the neighborhood"
   ]
  },
  {
   "cell_type": "code",
   "execution_count": null,
   "id": "47197b35",
   "metadata": {},
   "outputs": [],
   "source": [
    "cells = list(embryo.all_cells)\n",
    "pos_3D = [np.array(list(embryo.final[c])+[embryo.z_pos[c]]) for c in cells]\n",
    "\n",
    "GG = build_gabriel_graph(embryo, cells, pos_3D)"
   ]
  },
  {
   "cell_type": "markdown",
   "id": "f0a86cbd",
   "metadata": {},
   "source": [
    "### __All the cells above need to be ran only once per embryo loading. You need to rerun them only if you rerun the embryo (to change the genes to generate for example)__"
   ]
  },
  {
   "cell_type": "markdown",
   "id": "948036a9",
   "metadata": {},
   "source": [
    "# Defining the tissue and some parameters"
   ]
  },
  {
   "cell_type": "code",
   "execution_count": null,
   "id": "25c4b194",
   "metadata": {},
   "outputs": [],
   "source": [
    "# Tissue\n",
    "t = 21\n",
    "\n",
    "# Looking for positions of low expression\n",
    "invert = True\n",
    "\n",
    "# Volume threshold below which genes are ignored\n",
    "th_vol = 0.8*1e6\n",
    "\n",
    "# Bead size (Might be wrong now but does not change the resulting genes)\n",
    "bead_size = (10*10*30)\n",
    "\n",
    "# Value against which the linear regression is done\n",
    "# NOTE: For commodity; this value is redefined later\n",
    "regression = 'avg_nb_neighbs'\n",
    "\n",
    "# Distance to the regression line above which a gene is considered an outlier\n",
    "# (the higher the value is the more stringent the classifier is)\n",
    "# NOTE: For commodity; this value is redefined later\n",
    "th_pos = 7*1e6"
   ]
  },
  {
   "cell_type": "markdown",
   "id": "f1715f68",
   "metadata": {},
   "source": [
    "# Preparing the data"
   ]
  },
  {
   "cell_type": "code",
   "execution_count": null,
   "id": "2d4511f0",
   "metadata": {},
   "outputs": [],
   "source": [
    "# Copying the data to make sure not to alter the original\n",
    "data = embryo.anndata.copy().X\n",
    "if invert:\n",
    "    data = np.max(data) - data\n",
    "\n",
    "# Computing the threshold value above which a cell is considered positive for a given gene expression value\n",
    "# A unique threshold is computed for each gene assuming that within the embryo there are cells that express\n",
    "# and cells that do not express (meaning that the threshold splits the distribution in two classes)\n",
    "out = map(threshold_otsu, data.T)\n",
    "th = []\n",
    "for o in out:\n",
    "    th += [o]\n",
    "th = np.array(th)\n",
    "\n",
    "# Cells from tissue *t*\n",
    "cells = np.array([c for c in embryo.all_cells if embryo.tissue[c]==t])\n",
    "\n",
    "# Splicing the array to only have tissue *t* cells\n",
    "sub_data = data[cells]\n",
    "\n",
    "# Total volume of the tissue (ie nb beads * bead size)\n",
    "volume_total = len(cells) * bead_size\n",
    "\n",
    "# Total volume of expressing cells\n",
    "sub_volumes = np.sum(th<sub_data, axis=0) * bead_size\n",
    "\n",
    "# Genes that have an expressing volume of at least th_vol\n",
    "interesting_genes = np.where(th_vol<sub_volumes)[0]"
   ]
  },
  {
   "cell_type": "markdown",
   "id": "1846333b",
   "metadata": {},
   "source": [
    "# Computing the spatial metrics"
   ]
  },
  {
   "cell_type": "code",
   "execution_count": null,
   "id": "b25641b0",
   "metadata": {},
   "outputs": [],
   "source": [
    "# Compute spatial metrics for the set of interesting genes\n",
    "from multiprocessing import Pool\n",
    "with Pool() as pool:\n",
    "    out = pool.map(compute_vol_metrics, interesting_genes)\n",
    "(avg_nb_neighbs, closest,\n",
    " diameter, med_min, med_max,\n",
    " med_dist, solidity) = [], [], [], [], [], [], []\n",
    "for (av_n, close, dia, m_min, m_max, m_dist, soli) in out:\n",
    "    avg_nb_neighbs.append(av_n)\n",
    "    closest.append(close)\n",
    "    diameter.append(dia)\n",
    "    med_min.append(m_min)\n",
    "    med_max.append(m_max)\n",
    "    med_dist.append(m_dist)\n",
    "    solidity.append(soli)\n",
    "    \n",
    "# Build a dataframe with the previously computed metrics\n",
    "data_plot = {\n",
    "    'volume log': np.log(sub_volumes[th_vol<sub_volumes]),\n",
    "    'volume': sub_volumes[th_vol<sub_volumes],\n",
    "    'volume ratio': sub_volumes[th_vol<sub_volumes]/volume_total,\n",
    "    'avg_nb_neighbs': np.array(avg_nb_neighbs),\n",
    "    'closest': np.array(closest),\n",
    "    'diameter': np.array(diameter),\n",
    "    'med_min': np.array(med_min),\n",
    "    'med_max': np.array(med_max),\n",
    "    'med_dist': np.array(med_dist),\n",
    "    'solidity': np.array(solidity)\n",
    "}"
   ]
  },
  {
   "cell_type": "markdown",
   "id": "1f17cf3e",
   "metadata": {},
   "source": [
    "# Computing the linear regression to find the regionalized genes"
   ]
  },
  {
   "cell_type": "code",
   "execution_count": null,
   "id": "3a95f4fb",
   "metadata": {},
   "outputs": [],
   "source": [
    "# Compute the linear regression\n",
    "# Distance to the regression line above which a gene is considered an outlier\n",
    "# (the higher the value is the more stringent the classifier is)\n",
    "# It might be interesting to play with this value.\n",
    "th_pos = 8*1e5\n",
    "\n",
    "# Value against which the linear regression is done\n",
    "# It is important that the relationship between x and y is linear!!!\n",
    "regression_x = 'avg_nb_neighbs'\n",
    "regression_y = 'volume'\n",
    "\n",
    "regr = linear_model.LinearRegression()\n",
    "data_x_reshaped = data_plot[regression_x].reshape(-1,1)\n",
    "data_y_reshaped = data_plot[regression_y].reshape(-1,1)\n",
    "regr.fit(data_x_reshaped, data_y_reshaped)\n",
    "b = regr.intercept_[0]\n",
    "a = regr.coef_[0][0]\n",
    "line = lambda x: (a*np.array(x)+b)\n",
    "X = np.linspace(np.min(data_plot[regression_x]), np.max(data_plot[regression_x]), 100)\n",
    "\n",
    "data_plot['Distance_to_reg'] = np.abs((data_y_reshaped-regr.predict(data_x_reshaped))[:,0])\n",
    "data_plot['Outlier\\n(nb neighbs)'] = th_pos<data_plot['Distance_to_reg']"
   ]
  },
  {
   "cell_type": "markdown",
   "id": "41dd1416",
   "metadata": {},
   "source": [
    "# Plotting the results"
   ]
  },
  {
   "cell_type": "code",
   "execution_count": null,
   "id": "2c6a6c9a",
   "metadata": {},
   "outputs": [],
   "source": [
    "fig, ax = plt.subplots(figsize=(10, 8))\n",
    "x = 'avg_nb_neighbs'\n",
    "y = 'volume'\n",
    "print_text = True\n",
    "sns.scatterplot(data=data_plot, x=x, y=y, ax=ax, hue='Outlier\\n(nb neighbs)')\n",
    "if x==regression:\n",
    "    ax.plot(X, line(X), '-')\n",
    "not_to_take = lambda c: embryo.final[c][0]<0\n",
    "found_g = set(embryo.anndata[:,interesting_genes[data_plot['Outlier\\n(nb neighbs)']]].var_names)\n",
    "print(found_g)\n",
    "\n",
    "if print_text:\n",
    "    for i, gene in enumerate(np.where(data_plot['Outlier\\n(nb neighbs)'])[0]):\n",
    "        txt = embryo.anndata[:,interesting_genes[gene]].var_names[0]\n",
    "        plt.text(x=data_plot[x][gene]+.01,y=data_plot[y][gene],s=txt, \n",
    "                 fontdict=dict(color='red',size=8), va='baseline')\n",
    "        \n",
    "fig.tight_layout()\n",
    "fig.savefig(f'{x}_{y}_{corres_tissues[t]}.pdf')"
   ]
  }
 ],
 "metadata": {
  "kernelspec": {
   "display_name": "Python 3 (ipykernel)",
   "language": "python",
   "name": "python3"
  },
  "language_info": {
   "codemirror_mode": {
    "name": "ipython",
    "version": 3
   },
   "file_extension": ".py",
   "mimetype": "text/x-python",
   "name": "python",
   "nbconvert_exporter": "python",
   "pygments_lexer": "ipython3",
   "version": "3.8.11"
  }
 },
 "nbformat": 4,
 "nbformat_minor": 5
}
