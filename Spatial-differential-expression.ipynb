{
 "cells": [
  {
   "cell_type": "code",
   "execution_count": null,
   "id": "c848057b",
   "metadata": {},
   "outputs": [],
   "source": [
    "import json\n",
    "from scSpatial import Embryo\n",
    "from IPython.display import display\n",
    "\n",
    "with open('data/corresptissues.json') as f:\n",
    "    corres_tissues = json.load(f)\n",
    "    corres_tissues = {eval(k): v for k, v in corres_tissues.items()}\n",
    "with open('data/tissuescolor.json') as f:\n",
    "    colors_paper = json.load(f)\n",
    "    colors_paper = {eval(k): v for k, v in colors_paper.items()}\n",
    "%matplotlib inline"
   ]
  },
  {
   "cell_type": "markdown",
   "id": "d803c127",
   "metadata": {},
   "source": [
    "# Setting up parameters"
   ]
  },
  {
   "cell_type": "code",
   "execution_count": null,
   "id": "39f9ddf8",
   "metadata": {},
   "outputs": [],
   "source": [
    "# Path to the input data\n",
    "data_path = '../../SpatialSC/Data/E8.5.h5ad'\n",
    "# Path to the output folder\n",
    "output_folder = 'out/'\n",
    "\n",
    "# Set of genes that will be interpolated\n",
    "genes_of_interest = ['Cck', 'Cnn1', 'Hbb-bh1', 'Nppa', 'Nppb', 'Tdgf1', 'Thbs4', 'Tnni3']\n",
    "\n",
    "# List of tissues that are ignored to do coverslip registration\n",
    "tissues_to_ignore = [13, 15, 16, 22, 27, 29, 32, 36, 40, 41]\n",
    "\n",
    "# Coverslips to ignore\n",
    "# on the starting side\n",
    "nb_CS_begin_ignore = 0\n",
    "# on the ending side\n",
    "nb_CS_end_ignore = 2\n",
    "\n",
    "# Gives more weight to some tissues to help the alignment\n",
    "tissue_weight = {21:1000, 18:1}\n",
    "# xy resolution\n",
    "xy_resolution = .6\n",
    "# Distance max that two beads can be linked together between coverslips\n",
    "th_d = 150\n",
    "# Threshold bellow which the beads will be considered noise.\n",
    "# Value between 0 (all beads taken) and 1 (almost no beads taken)\n",
    "outlier_threshold = .1\n",
    "\n",
    "# Number of interpolated layers between two consecutive coverslips\n",
    "nb_interp = 5"
   ]
  },
  {
   "cell_type": "markdown",
   "id": "6573474f",
   "metadata": {},
   "source": [
    "# Loading the embryo"
   ]
  },
  {
   "cell_type": "code",
   "execution_count": null,
   "id": "ec7ea06c",
   "metadata": {},
   "outputs": [],
   "source": [
    "embryo = Embryo(data_path, tissues_to_ignore, corres_tissues, tissue_weight=tissue_weight,\n",
    "                xy_resolution=xy_resolution, genes_of_interest=genes_of_interest,\n",
    "                nb_CS_begin_ignore=nb_CS_begin_ignore, nb_CS_end_ignore=nb_CS_end_ignore,\n",
    "                store_anndata=True)\n",
    "embryo.removing_spatial_outliers(th=outlier_threshold)\n",
    "embryo.reconstruct_intermediate(embryo, th_d=th_d, genes=genes_of_interest)"
   ]
  },
  {
   "cell_type": "markdown",
   "id": "ec6c5003",
   "metadata": {},
   "source": [
    "### Pre-processing the differential expression values\n",
    "It can take a decent amount of time.\n",
    "\n",
    "Moreover, it is likely that using a computer with decent amount of RAM is better\n",
    "\n",
    "The list `tissues_to_process` contains the list of tissue ids that will be processed.\n",
    "\n",
    "`th_vol` relates to the ratio of expressing cells over total number of cells for a given tissue. Any gene that have an expression volume ratio lower than `th_vol` or higher than `1-th_vol` is discarded.\n",
    "\n",
    "Setting `th_vol` to `0` will consider all the genes. **It is not recommended.**\n",
    "\n",
    "A value of `0.025` as in the following example means that the gene expression volume has to be higher than 2.5% and lower than 98.5% of the total volume of the tissue.\n",
    "\n",
    "The function `get_3D_differential_expression` returns a Pandas dataframe that one could work with if wanted.\n",
    "\n",
    "This dataframe can also be found later at `embryo.diff_expressed_3D`."
   ]
  },
  {
   "cell_type": "code",
   "execution_count": null,
   "id": "a45fbaa7",
   "metadata": {
    "scrolled": true
   },
   "outputs": [],
   "source": [
    "tissues_to_process = [5, 10, 12, 18, 21, 24, 30, 31, 33, 34, 39]\n",
    "th_vol = .025\n",
    "_ = embryo.get_3D_differential_expression(tissues_to_process, th_vol);"
   ]
  },
  {
   "cell_type": "markdown",
   "id": "a42e1ee1",
   "metadata": {},
   "source": [
    "If one wants to add a tissue to the set of tissues already treated, it can be done easily and will be much faster since all the pre-processing is stored."
   ]
  },
  {
   "cell_type": "code",
   "execution_count": null,
   "id": "d0532043",
   "metadata": {},
   "outputs": [],
   "source": [
    "_ = embryo.get_3D_differential_expression([30], th_vol);"
   ]
  },
  {
   "cell_type": "markdown",
   "id": "988beb0c",
   "metadata": {},
   "source": [
    "### Plotting the top `nb_genes` differentially expressed\n",
    "The method `plot_top_3D_diff_expr_genes` allows to plot the top `nb_genes` that are spatially differentially expressed in a set of tissues `tissues_to_process`.\n",
    "\n",
    "One can also allow or not gene repetition by changing the argument `repetition_allowed` from `False` to `True`. The default value is `False` meaning that repetitions are **not** allowed.\n",
    "\n",
    "One can also decide to plot the original values or the z-scored values by changing the argument `compute_z_score`. Its value is `True` by default meaning that the z-score is plotted.\n",
    "\n",
    "Ultimately, one can provide a matplotlib figure and a matplotib axis through the arguments `fig` and `ax`. By default none are specified and they are created within the function and returned by the function."
   ]
  },
  {
   "cell_type": "code",
   "execution_count": null,
   "id": "b032b5b6",
   "metadata": {},
   "outputs": [],
   "source": [
    "# Note that not all the tissues have to be plotted. Also, if a tissue asked\n",
    "# has not already been computed, the function informs the user about it.\n",
    "embryo.plot_top_3D_diff_expr_genes(tissues_to_process[:4]+[30, 31, 32], nb_genes=2);\n",
    "\n",
    "# All the tissues plotted, 4 genes per tissues, repetition allowed,\n",
    "# and the original values are plotted (not z-scored)\n",
    "fig, ax = embryo.plot_top_3D_diff_expr_genes(tissues_to_process, nb_genes=2,\n",
    "                                             repetition_allowed=False, compute_z_score=False,\n",
    "                                             output_path='3D_diff_expr.pdf');"
   ]
  },
  {
   "cell_type": "markdown",
   "id": "e9841c95",
   "metadata": {},
   "source": [
    "### Other visualization tools\n",
    "Two other functions allow to visualize the 3D differentially expressed genes.\n",
    "\n",
    "First `plot_volume_vs_neighbs` which allows to the relative volume occupied by expressing cells against their relative density for a given tissue.\n",
    "\n",
    "The second function, `print_diff_expr_genes` allow to print the top `nb` genes for a given tissue\n",
    "\n",
    "---\n",
    "The function `plot_volume_vs_neighbs` takes as arguments at least a tissue `id`.\n",
    "\n",
    "On top of that can be given a list of genes to identify on the plot through the argument `print_genes`.\n",
    "\n",
    "The top _x_ genes can also be identified using the argument `print_top`\n",
    "\n",
    "An `output_path` to the file in which to save the generated figure can be provided too.\n",
    "\n",
    "Moreover, one can add keyword arguments to the function that will be forwarded to the `scatterplot` function from Seaborn. (see example below)\n",
    "\n",
    "---\n",
    "The function `print_diff_expr_genes` takes as arguments the tissue to display and the number of top genes to display"
   ]
  },
  {
   "cell_type": "code",
   "execution_count": null,
   "id": "e25d67b5",
   "metadata": {},
   "outputs": [],
   "source": [
    "# Plotting the distribution for the tissue 31 highlighting a given set of genes\n",
    "# and saving the figure in Vol_vs_Dens_31.pdf (note that a different path can be provided)\n",
    "embryo.plot_volume_vs_neighbs(31, print_genes=['T', 'Sox2', 'Sox3',\n",
    "                                               'Hes3', 'Hoxb9', 'Cyp26a1',\n",
    "                                               'Rspo3', 'Hoxd9'],\n",
    "                              output_path=f'Vol_vs_Dens_31.pdf')\n",
    "\n",
    "# Plotting the distribution for the tissue 24 highlighting the top 5 genes.\n",
    "# Note that the figure is not saved and that the palette arguments allows\n",
    "# to give a different colormap for localization score.\n",
    "embryo.plot_volume_vs_neighbs(24, print_top=5,\n",
    "                              palette='Reds')\n",
    "\n",
    "# Compute and display the top 10 genes for the tissue 31.\n",
    "top_10 = embryo.print_diff_expr_genes(tissue=31, nb=10)\n",
    "display(top_10)"
   ]
  }
 ],
 "metadata": {
  "kernelspec": {
   "display_name": "Python 3 (ipykernel)",
   "language": "python",
   "name": "python3"
  },
  "language_info": {
   "codemirror_mode": {
    "name": "ipython",
    "version": 3
   },
   "file_extension": ".py",
   "mimetype": "text/x-python",
   "name": "python",
   "nbconvert_exporter": "python",
   "pygments_lexer": "ipython3",
   "version": "3.8.12"
  }
 },
 "nbformat": 4,
 "nbformat_minor": 5
}
