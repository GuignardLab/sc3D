{
 "cells": [
  {
   "cell_type": "code",
   "execution_count": 1,
   "id": "c848057b",
   "metadata": {},
   "outputs": [
    {
     "name": "stdout",
     "output_type": "stream",
     "text": [
      "Jupyter environment detected. Enabling Open3D WebVisualizer.\n",
      "[Open3D INFO] WebRTC GUI backend enabled.\n",
      "[Open3D INFO] WebRTCWindowSystem: HTTP handshake server disabled.\n"
     ]
    },
    {
     "name": "stderr",
     "output_type": "stream",
     "text": [
      "INFO - 2021-11-26 15:07:42,448 - utils - Note: NumExpr detected 64 cores but \"NUMEXPR_MAX_THREADS\" not set, so enforcing safe limit of 8.\n",
      "INFO - 2021-11-26 15:07:42,448 - utils - NumExpr defaulting to 8 threads.\n"
     ]
    }
   ],
   "source": [
    "import json\n",
    "from matplotlib import pyplot as plt\n",
    "import numpy as np\n",
    "import open3d as o3d\n",
    "from src.EmbryoAlignment import Embryo\n",
    "import seaborn as sns\n",
    "from itertools import combinations\n",
    "from sklearn.decomposition import PCA\n",
    "from scipy.stats import median_abs_deviation\n",
    "from scipy.spatial import KDTree, ConvexHull, Delaunay\n",
    "from scipy.spatial.distance import pdist, squareform\n",
    "from sklearn import linear_model\n",
    "from sklearn.metrics import mean_squared_error, r2_score\n",
    "\n",
    "with open('data/corresptissues.json') as f:\n",
    "    corres_tissues = json.load(f)\n",
    "    corres_tissues = {eval(k): v for k, v in corres_tissues.items()}\n",
    "with open('data/tissuescolor.json') as f:\n",
    "    colors_paper = json.load(f)\n",
    "    colors_paper = {eval(k): v for k, v in colors_paper.items()}\n",
    "%matplotlib inline"
   ]
  },
  {
   "cell_type": "markdown",
   "id": "d803c127",
   "metadata": {},
   "source": [
    "# Setting up parameters"
   ]
  },
  {
   "cell_type": "code",
   "execution_count": 2,
   "id": "39f9ddf8",
   "metadata": {},
   "outputs": [],
   "source": [
    "# Path to the input data\n",
    "data_path = '../SpatialSC/Data/E8.5.h5ad'\n",
    "# Path to the output folder\n",
    "output_folder = 'out/'\n",
    "\n",
    "# Set of genes that will be interpolated\n",
    "genes_of_interest = ['Cck', 'Cnn1', 'Hbb-bh1', 'Nppa', 'Nppb', 'Tdgf1', 'Thbs4', 'Tnni3']\n",
    "\n",
    "# List of tissues that are ignored to do coverslip registration\n",
    "tissues_to_ignore = [13, 15, 16, 22, 27, 29, 32, 36, 40, 41]\n",
    "\n",
    "# Coverslips to ignore\n",
    "# on the starting side\n",
    "nb_CS_begin_ignore = 0\n",
    "# on the ending side\n",
    "nb_CS_end_ignore = 2\n",
    "\n",
    "# Gives more weight to some tissues to help the alignment\n",
    "tissue_weight = {21:1000, 18:1}\n",
    "# xy resolution\n",
    "xy_resolution = .6\n",
    "# Distance max that two beads can be linked together between coverslips\n",
    "th_d = 150\n",
    "# Threshold bellow which the beads will be considered noise.\n",
    "# Value between 0 (all beads taken) and 1 (almost no beads taken)\n",
    "outlier_threshold = .1\n",
    "\n",
    "# Number of interpolated layers between two consecutive coverslips\n",
    "nb_interp = 5"
   ]
  },
  {
   "cell_type": "markdown",
   "id": "6573474f",
   "metadata": {},
   "source": [
    "# Loading the embryo"
   ]
  },
  {
   "cell_type": "code",
   "execution_count": 3,
   "id": "ec7ea06c",
   "metadata": {},
   "outputs": [],
   "source": [
    "embryo = Embryo(data_path, tissues_to_ignore, corres_tissues, tissue_weight=tissue_weight,\n",
    "                xy_resolution=xy_resolution, genes_of_interest=genes_of_interest,\n",
    "                nb_CS_begin_ignore=nb_CS_begin_ignore, nb_CS_end_ignore=nb_CS_end_ignore,\n",
    "                store_anndata=True)\n",
    "embryo.removing_spatial_outliers(th=outlier_threshold)\n",
    "embryo.reconstruct_intermediate(embryo, th_d=th_d, genes=genes_of_interest)"
   ]
  },
  {
   "cell_type": "code",
   "execution_count": 4,
   "id": "92534e08",
   "metadata": {},
   "outputs": [
    {
     "name": "stderr",
     "output_type": "stream",
     "text": [
      "/home/guignard/workspace/scSpatial/src/EmbryoAlignment.py:938: RuntimeWarning: invalid value encountered in true_divide\n",
      "  mean1 = np.cumsum(hist * bin_centers) / weight1\n",
      "/home/guignard/workspace/scSpatial/src/EmbryoAlignment.py:939: RuntimeWarning: invalid value encountered in true_divide\n",
      "  mean2 = (np.cumsum((hist * bin_centers)[::-1]) / weight2[::-1])[::-1]\n",
      "/home/guignard/miniconda3/envs/SpatialSCII/lib/python3.8/site-packages/numpy/core/fromnumeric.py:3440: RuntimeWarning: Mean of empty slice.\n",
      "  return _methods._mean(a, axis=axis, dtype=dtype,\n",
      "/home/guignard/miniconda3/envs/SpatialSCII/lib/python3.8/site-packages/numpy/core/_methods.py:189: RuntimeWarning: invalid value encountered in double_scalars\n",
      "  ret = ret.dtype.type(ret / rcount)\n"
     ]
    }
   ],
   "source": [
    "tissues_to_process = [5, 10, 12, 18, 21, 24, 30, 31, 33, 34, 39]\n",
    "th_vol = .025\n",
    "_ = embryo.get_3D_differential_expression(tissues_to_process, th_vol);"
   ]
  },
  {
   "cell_type": "code",
   "execution_count": 5,
   "id": "d0424589",
   "metadata": {},
   "outputs": [],
   "source": [
    "_ = embryo.get_3D_differential_expression([30], th_vol);"
   ]
  },
  {
   "cell_type": "code",
   "execution_count": 8,
   "id": "299e2dba",
   "metadata": {},
   "outputs": [
    {
     "name": "stdout",
     "output_type": "stream",
     "text": [
      "You asked to plot tissues that were not already processed\n",
      "The following tissues will be ignored:\n",
      "\t - 32\n"
     ]
    },
    {
     "data": {
      "image/png": "[encoded data removed]",
      "text/plain": [
       "<Figure size 360x360 with 1 Axes>"
      ]
     },
     "metadata": {
      "needs_background": "light"
     },
     "output_type": "display_data"
    }
   ],
   "source": [
    "# embryo.plot_top_interesting_genes(tissues_to_process[:2], nb_genes=1)\n",
    "from scipy import stats\n",
    "embryo.plot_top_3D_diff_expr_genes(tissues_to_process[:4]+[30, 31, 32], nb_genes=2);"
   ]
  },
  {
   "cell_type": "code",
   "execution_count": 86,
   "id": "0cd219ac",
   "metadata": {},
   "outputs": [
    {
     "data": {
      "text/html": [
       "<div>\n",
       "<style scoped>\n",
       "    .dataframe tbody tr th:only-of-type {\n",
       "        vertical-align: middle;\n",
       "    }\n",
       "\n",
       "    .dataframe tbody tr th {\n",
       "        vertical-align: top;\n",
       "    }\n",
       "\n",
       "    .dataframe thead th {\n",
       "        text-align: right;\n",
       "    }\n",
       "</style>\n",
       "<table border=\"1\" class=\"dataframe\">\n",
       "  <thead>\n",
       "    <tr style=\"text-align: right;\">\n",
       "      <th></th>\n",
       "      <th>volume</th>\n",
       "      <th>avg_nb_neighbs</th>\n",
       "      <th>Distance_to_reg</th>\n",
       "      <th>Interesting genes</th>\n",
       "      <th>Gene names</th>\n",
       "    </tr>\n",
       "  </thead>\n",
       "  <tbody>\n",
       "    <tr>\n",
       "      <th>160</th>\n",
       "      <td>0.092282</td>\n",
       "      <td>0.163636</td>\n",
       "      <td>0.227695</td>\n",
       "      <td>484</td>\n",
       "      <td>Cpn1</td>\n",
       "    </tr>\n",
       "    <tr>\n",
       "      <th>177</th>\n",
       "      <td>0.443512</td>\n",
       "      <td>0.312736</td>\n",
       "      <td>0.179961</td>\n",
       "      <td>529</td>\n",
       "      <td>Cyp26a1</td>\n",
       "    </tr>\n",
       "    <tr>\n",
       "      <th>601</th>\n",
       "      <td>0.082774</td>\n",
       "      <td>0.131757</td>\n",
       "      <td>0.172312</td>\n",
       "      <td>1859</td>\n",
       "      <td>Rhox5</td>\n",
       "    </tr>\n",
       "    <tr>\n",
       "      <th>323</th>\n",
       "      <td>0.135347</td>\n",
       "      <td>0.157025</td>\n",
       "      <td>0.171173</td>\n",
       "      <td>1082</td>\n",
       "      <td>Hes3</td>\n",
       "    </tr>\n",
       "    <tr>\n",
       "      <th>223</th>\n",
       "      <td>0.108501</td>\n",
       "      <td>0.141753</td>\n",
       "      <td>0.166931</td>\n",
       "      <td>656</td>\n",
       "      <td>Epcam</td>\n",
       "    </tr>\n",
       "    <tr>\n",
       "      <th>...</th>\n",
       "      <td>...</td>\n",
       "      <td>...</td>\n",
       "      <td>...</td>\n",
       "      <td>...</td>\n",
       "      <td>...</td>\n",
       "    </tr>\n",
       "    <tr>\n",
       "      <th>215</th>\n",
       "      <td>0.038591</td>\n",
       "      <td>0.025362</td>\n",
       "      <td>0.000073</td>\n",
       "      <td>638</td>\n",
       "      <td>Ell2</td>\n",
       "    </tr>\n",
       "    <tr>\n",
       "      <th>239</th>\n",
       "      <td>0.142617</td>\n",
       "      <td>0.076471</td>\n",
       "      <td>0.000068</td>\n",
       "      <td>710</td>\n",
       "      <td>Fbn2</td>\n",
       "    </tr>\n",
       "    <tr>\n",
       "      <th>281</th>\n",
       "      <td>0.214765</td>\n",
       "      <td>0.111979</td>\n",
       "      <td>0.000063</td>\n",
       "      <td>816</td>\n",
       "      <td>Gcat</td>\n",
       "    </tr>\n",
       "    <tr>\n",
       "      <th>83</th>\n",
       "      <td>0.049776</td>\n",
       "      <td>0.030899</td>\n",
       "      <td>0.000011</td>\n",
       "      <td>301</td>\n",
       "      <td>Boc</td>\n",
       "    </tr>\n",
       "    <tr>\n",
       "      <th>785</th>\n",
       "      <td>0.071029</td>\n",
       "      <td>0.041339</td>\n",
       "      <td>0.000009</td>\n",
       "      <td>2331</td>\n",
       "      <td>Wwox</td>\n",
       "    </tr>\n",
       "  </tbody>\n",
       "</table>\n",
       "<p>801 rows × 5 columns</p>\n",
       "</div>"
      ],
      "text/plain": [
       "       volume  avg_nb_neighbs  Distance_to_reg  Interesting genes Gene names\n",
       "160  0.092282        0.163636         0.227695                484       Cpn1\n",
       "177  0.443512        0.312736         0.179961                529    Cyp26a1\n",
       "601  0.082774        0.131757         0.172312               1859      Rhox5\n",
       "323  0.135347        0.157025         0.171173               1082       Hes3\n",
       "223  0.108501        0.141753         0.166931                656      Epcam\n",
       "..        ...             ...              ...                ...        ...\n",
       "215  0.038591        0.025362         0.000073                638       Ell2\n",
       "239  0.142617        0.076471         0.000068                710       Fbn2\n",
       "281  0.214765        0.111979         0.000063                816       Gcat\n",
       "83   0.049776        0.030899         0.000011                301        Boc\n",
       "785  0.071029        0.041339         0.000009               2331       Wwox\n",
       "\n",
       "[801 rows x 5 columns]"
      ]
     },
     "execution_count": 86,
     "metadata": {},
     "output_type": "execute_result"
    }
   ],
   "source": [
    "def plot_volume_vs_neighbs(self, t, print_top=None,\n",
    "                           print_genes=None, fig=None, ax=None,\n",
    "                          path_to_fig=None, **kwargs):\n",
    "    data_plot = self.diff_expressed_3D[t]\n",
    "    if ax is None:\n",
    "        fig, ax = plt.subplots(figsize=(10, 8))\n",
    "    if fig is None:\n",
    "        fig = ax.get_figure()\n",
    "    x = 'avg_nb_neighbs'\n",
    "    y = 'volume'\n",
    "    print_text = True\n",
    "    g = sns.scatterplot(data=data_plot, x=x, y=y, ax=ax, hue='Distance_to_reg', **kwargs)\n",
    "    legend = g.axes.get_legend()\n",
    "    legend.set_title('Localization score')\n",
    "    ax.set_ylabel('Relative volume (to total tissue volume)')\n",
    "    ax.set_xlabel('Relative number of neighbors (to the average number of neighbors in the tissue)')\n",
    "    if print_top is not None:\n",
    "        for gene in np.argsort(data_plot['Distance_to_reg'])[-print_top:]:\n",
    "            txt = self.anndata[:,data_plot['Interesting genes'][gene]].var_names[0]\n",
    "            plt.text(x=data_plot[x][gene],y=data_plot[y][gene],s=txt, \n",
    "                     fontdict=dict(color='red',size=8, fontweight='bold'), va='baseline')\n",
    "    if print_genes is not None:\n",
    "        for gene in print_genes:\n",
    "            gene_num_all = np.where(self.anndata.var_names==gene)[0][0]\n",
    "            gene_num = np.where(data_plot['Interesting genes']==gene_num_all)[0][0]\n",
    "            plt.text(x=data_plot[x][gene_num],y=data_plot[y][gene_num],s=gene, \n",
    "                     fontdict=dict(color='red',size=8, fontweight='bold'), va='baseline')\n",
    "    ax.set_title(self.corres_tissue[t])\n",
    "    fig.tight_layout()\n",
    "    if path_to_fig is not None:\n",
    "        fig.savefig(f'{x}_{y}_{corres_tissues[t]}.pdf')\n",
    "\n",
    "def print_diff_expr_genes(self, tissue, nb):\n",
    "    data_plot = self.diff_expressed_3D[t]\n",
    "    gene_values = []\n",
    "#     for gene in np.argsort(data_plot['Distance_to_reg'])[-print_top:]:\n",
    "#         txt = self.anndata[:,data_plot['Interesting genes'][gene]].var_names[0]\n",
    "    order = np.argsort(data_plot['Distance_to_reg'])[:-nb-1:-1]\n",
    "    print(*zip(data_plot['Distance_to_reg'][order],\n",
    "              self.anndata[:,data_plot['Interesting genes'][order]].var_names))\n",
    "    \n",
    "        \n",
    "        \n",
    "# plot_volume_vs_neighbs(embryo, 31, print_genes=['T', 'Sox2', 'Sox3',\n",
    "#                                                 'Hes3', 'Hoxb9', 'Cyp26a1',\n",
    "#                                                 'Rspo3', 'Hoxd9'],\n",
    "#                       path_to_fig='.', palette='Reds')\n",
    "# print_diff_expr_genes(embryo, tissue=31, nb=10)\n",
    "# np.arange(10)[:-5:-1]\n",
    "data_plot = embryo.diff_expressed_3D[31]\n",
    "data_plot['Gene names'] = np.array(embryo.anndata[:,data_plot['Interesting genes']].var_names)\n",
    "import pandas as pd\n",
    "df = pd.DataFrame(data_plot)\n",
    "df.sort_values('Distance_to_reg', ascending=False)"
   ]
  },
  {
   "cell_type": "markdown",
   "id": "948036a9",
   "metadata": {},
   "source": [
    "# Defining the tissue and some parameters"
   ]
  },
  {
   "cell_type": "code",
   "execution_count": null,
   "id": "25c4b194",
   "metadata": {},
   "outputs": [],
   "source": [
    "# Tissue\n",
    "t = 21\n",
    "\n",
    "# Looking for positions of low expression\n",
    "invert = False\n",
    "\n",
    "# Volume threshold below which genes are ignored\n",
    "th_vol = 0.8*1e6\n",
    "\n",
    "# Bead size (Might be wrong now but does not change the resulting genes)\n",
    "bead_size = (10*10*30)\n",
    "\n",
    "# Values against which the linear regression is done\n",
    "# It is important that the relationship between x and y is linear!!!\n",
    "# NOTE: For commodity; this value is redefined later\n",
    "regression_x = 'avg_nb_neighbs'\n",
    "regression_y = 'volume'\n",
    "\n",
    "# Distance to the regression line above which a gene is considered an outlier\n",
    "# (the higher the value is the more stringent the classifier is)\n",
    "# NOTE: For commodity; this value is redefined later\n",
    "th_pos = 7*1e6"
   ]
  },
  {
   "cell_type": "markdown",
   "id": "f1715f68",
   "metadata": {},
   "source": [
    "# Preparing the data"
   ]
  },
  {
   "cell_type": "code",
   "execution_count": null,
   "id": "2d4511f0",
   "metadata": {},
   "outputs": [],
   "source": [
    "# Copying the data to make sure not to alter the original\n",
    "data = embryo.anndata.copy().X\n",
    "if invert:\n",
    "    data = np.max(data) - data\n",
    "\n",
    "# Computing the threshold value above which a cell is considered positive for a given gene expression value\n",
    "# A unique threshold is computed for each gene assuming that within the embryo there are cells that express\n",
    "# and cells that do not express (meaning that the threshold splits the distribution in two classes)\n",
    "out = map(threshold_otsu, data.T)\n",
    "th = []\n",
    "for o in out:\n",
    "    th += [o]\n",
    "th = np.array(th)\n",
    "\n",
    "# Cells from tissue *t*\n",
    "cells = np.array([c for c in embryo.all_cells if embryo.tissue[c]==t])\n",
    "\n",
    "# Splicing the array to only have tissue *t* cells\n",
    "sub_data = data[cells]\n",
    "\n",
    "# Total volume of the tissue (ie nb beads * bead size)\n",
    "volume_total = len(cells) * bead_size\n",
    "\n",
    "# Total volume of expressing cells\n",
    "sub_volumes = np.sum(th<sub_data, axis=0) * bead_size\n",
    "\n",
    "# Genes that have an expressing volume of at least th_vol\n",
    "interesting_genes = np.where(th_vol<sub_volumes)[0]"
   ]
  },
  {
   "cell_type": "markdown",
   "id": "1846333b",
   "metadata": {},
   "source": [
    "# Computing the spatial metrics"
   ]
  },
  {
   "cell_type": "code",
   "execution_count": null,
   "id": "b25641b0",
   "metadata": {},
   "outputs": [],
   "source": [
    "# Compute spatial metrics for the set of interesting genes\n",
    "from multiprocessing import Pool\n",
    "with Pool() as pool:\n",
    "    out = pool.map(compute_vol_metrics, interesting_genes)\n",
    "(avg_nb_neighbs, closest,\n",
    " diameter, med_min, med_max,\n",
    " med_dist, solidity) = [], [], [], [], [], [], []\n",
    "for (av_n, close, dia, m_min, m_max, m_dist, soli) in out:\n",
    "    avg_nb_neighbs.append(av_n)\n",
    "    closest.append(close)\n",
    "    diameter.append(dia)\n",
    "    med_min.append(m_min)\n",
    "    med_max.append(m_max)\n",
    "    med_dist.append(m_dist)\n",
    "    solidity.append(soli)\n",
    "    \n",
    "# Build a dataframe with the previously computed metrics\n",
    "data_plot = {\n",
    "    'volume log': np.log(sub_volumes[th_vol<sub_volumes]),\n",
    "    'volume': sub_volumes[th_vol<sub_volumes],\n",
    "    'volume ratio': sub_volumes[th_vol<sub_volumes]/volume_total,\n",
    "    'avg_nb_neighbs': np.array(avg_nb_neighbs),\n",
    "    'closest': np.array(closest),\n",
    "    'diameter': np.array(diameter),\n",
    "    'med_min': np.array(med_min),\n",
    "    'med_max': np.array(med_max),\n",
    "    'med_dist': np.array(med_dist),\n",
    "    'solidity': np.array(solidity)\n",
    "}"
   ]
  },
  {
   "cell_type": "markdown",
   "id": "1f17cf3e",
   "metadata": {},
   "source": [
    "# Computing the linear regression to find the regionalized genes"
   ]
  },
  {
   "cell_type": "code",
   "execution_count": null,
   "id": "3a95f4fb",
   "metadata": {},
   "outputs": [],
   "source": [
    "# Compute the linear regression\n",
    "# Distance to the regression line above which a gene is considered an outlier\n",
    "# (the higher the value is the more stringent the classifier is)\n",
    "# It might be interesting to play with this value.\n",
    "th_pos = 8*1e5\n",
    "\n",
    "# Value against which the linear regression is done\n",
    "# It is important that the relationship between x and y is linear!!!\n",
    "regression_x = 'avg_nb_neighbs'\n",
    "regression_y = 'volume'\n",
    "\n",
    "regr = linear_model.LinearRegression()\n",
    "data_x_reshaped = data_plot[regression_x].reshape(-1,1)\n",
    "data_y_reshaped = data_plot[regression_y].reshape(-1,1)\n",
    "regr.fit(data_x_reshaped, data_y_reshaped)\n",
    "b = regr.intercept_[0]\n",
    "a = regr.coef_[0][0]\n",
    "line = lambda x: (a*np.array(x)+b)\n",
    "X = np.linspace(np.min(data_plot[regression_x]), np.max(data_plot[regression_x]), 100)\n",
    "\n",
    "data_plot['Distance_to_reg'] = np.abs((data_y_reshaped-regr.predict(data_x_reshaped))[:,0])\n",
    "data_plot['Outlier\\n(nb neighbs)'] = th_pos<data_plot['Distance_to_reg']"
   ]
  },
  {
   "cell_type": "markdown",
   "id": "41dd1416",
   "metadata": {},
   "source": [
    "# Plotting the results"
   ]
  },
  {
   "cell_type": "code",
   "execution_count": null,
   "id": "2c6a6c9a",
   "metadata": {},
   "outputs": [],
   "source": [
    "fig, ax = plt.subplots(figsize=(10, 8))\n",
    "x = 'avg_nb_neighbs'\n",
    "y = 'volume'\n",
    "print_text = True\n",
    "sns.scatterplot(data=data_plot, x=x, y=y, ax=ax, hue='Outlier\\n(nb neighbs)')\n",
    "if x==regression_x:\n",
    "    ax.plot(X, line(X), '-')\n",
    "not_to_take = lambda c: embryo.final[c][0]<0\n",
    "found_g = set(embryo.anndata[:,interesting_genes[data_plot['Outlier\\n(nb neighbs)']]].var_names)\n",
    "print(found_g)\n",
    "\n",
    "if print_text:\n",
    "    for i, gene in enumerate(np.where(data_plot['Outlier\\n(nb neighbs)'])[0]):\n",
    "        txt = embryo.anndata[:,interesting_genes[gene]].var_names[0]\n",
    "        plt.text(x=data_plot[x][gene]+.01,y=data_plot[y][gene],s=txt, \n",
    "                 fontdict=dict(color='red',size=8), va='baseline')\n",
    "        \n",
    "fig.tight_layout()\n",
    "fig.savefig(f'{x}_{y}_{corres_tissues[t]}.pdf')"
   ]
  },
  {
   "cell_type": "code",
   "execution_count": null,
   "id": "b21d13c1",
   "metadata": {},
   "outputs": [],
   "source": [
    "sorted(found_g)"
   ]
  }
 ],
 "metadata": {
  "kernelspec": {
   "display_name": "Python 3 (ipykernel)",
   "language": "python",
   "name": "python3"
  },
  "language_info": {
   "codemirror_mode": {
    "name": "ipython",
    "version": 3
   },
   "file_extension": ".py",
   "mimetype": "text/x-python",
   "name": "python",
   "nbconvert_exporter": "python",
   "pygments_lexer": "ipython3",
   "version": "3.8.11"
  }
 },
 "nbformat": 4,
 "nbformat_minor": 5
}
